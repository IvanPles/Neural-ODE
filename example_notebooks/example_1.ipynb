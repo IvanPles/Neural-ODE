{
 "cells": [
  {
   "cell_type": "code",
   "execution_count": 1,
   "id": "36fb956c",
   "metadata": {},
   "outputs": [],
   "source": [
    "import matplotlib.pyplot as plt\n",
    "import numpy as np\n",
    "import pandas as pd\n",
    "from scipy.integrate import solve_ivp\n",
    "from scipy.interpolate import interp1d\n",
    "\n",
    "import time\n",
    "import tensorflow as tf\n",
    "from tensorflow import keras\n",
    "from tensorflow.keras import layers\n",
    "%matplotlib qt"
   ]
  },
  {
   "cell_type": "code",
   "execution_count": 2,
   "id": "7451289b",
   "metadata": {},
   "outputs": [],
   "source": [
    "import sys\n",
    "sys.path.append('..')\n",
    "import neural_ode.NeuralODE"
   ]
  },
  {
   "cell_type": "code",
   "execution_count": 3,
   "id": "3142e700",
   "metadata": {},
   "outputs": [],
   "source": [
    "tf.keras.backend.set_floatx('float64')"
   ]
  },
  {
   "cell_type": "code",
   "execution_count": 12,
   "id": "f64b01b4",
   "metadata": {},
   "outputs": [],
   "source": [
    "model = keras.Sequential(\n",
    "    [\n",
    "        keras.Input(shape=(2,)),\n",
    "        layers.Dense(2, name=\"layer1\"),\n",
    "    ]\n",
    ")\n"
   ]
  },
  {
   "cell_type": "code",
   "execution_count": 13,
   "id": "8dbda1f9",
   "metadata": {},
   "outputs": [],
   "source": [
    "n_ode = neural_ode.NeuralODE.NeuralODE(model, 2)"
   ]
  },
  {
   "cell_type": "code",
   "execution_count": null,
   "id": "63c5b10e",
   "metadata": {},
   "outputs": [],
   "source": [
    "n_ode.pretrain()"
   ]
  },
  {
   "cell_type": "code",
   "execution_count": 6,
   "id": "2335fa2c",
   "metadata": {},
   "outputs": [],
   "source": [
    "# Generate solution"
   ]
  },
  {
   "cell_type": "code",
   "execution_count": 7,
   "id": "d502d2ec",
   "metadata": {},
   "outputs": [],
   "source": [
    "#\n",
    "N_n = int(2)\n",
    "c = 0.1\n",
    "k = 4.0\n",
    "def oscilator(t, y):\n",
    "    return np.array([y[1], -c*y[1]-k*y[0]])\n",
    "t_final = 20.0\n",
    "n_eval = int(500)\n",
    "t_span = np.array([0.0, t_final])\n",
    "y0 = np.array([1.0, 0.0])"
   ]
  },
  {
   "cell_type": "code",
   "execution_count": 8,
   "id": "b7b95262",
   "metadata": {},
   "outputs": [],
   "source": [
    "sol = solve_ivp(oscilator, t_span, y0, t_eval=np.linspace(0, t_final, num=n_eval))"
   ]
  },
  {
   "cell_type": "code",
   "execution_count": 9,
   "id": "f83a9c9c",
   "metadata": {},
   "outputs": [
    {
     "data": {
      "text/plain": [
       "[<matplotlib.lines.Line2D at 0x1d2907ffac0>]"
      ]
     },
     "execution_count": 9,
     "metadata": {},
     "output_type": "execute_result"
    }
   ],
   "source": [
    "plt.plot(sol.t, sol.y[0,:])"
   ]
  },
  {
   "cell_type": "code",
   "execution_count": 14,
   "id": "b8693cb9",
   "metadata": {},
   "outputs": [],
   "source": [
    "# transform to tensorflow\n",
    "t_span_tf = tf.constant(t_span)\n",
    "y0_tf = tf.constant(y0, dtype=tf.float64)\n",
    "t_target = tf.constant(sol.t)\n",
    "y_target = tf.constant(np.transpose(sol.y) )"
   ]
  },
  {
   "cell_type": "code",
   "execution_count": 15,
   "id": "dc85e374",
   "metadata": {},
   "outputs": [
    {
     "data": {
      "text/plain": [
       "[<matplotlib.lines.Line2D at 0x1d29130ccd0>]"
      ]
     },
     "execution_count": 15,
     "metadata": {},
     "output_type": "execute_result"
    }
   ],
   "source": [
    "sol1 = n_ode.forward_solve(t_target, y_target[0,:])\n",
    "fig = plt.figure()\n",
    "ax = plt.gca()\n",
    "ax.plot(t_target.numpy(), y_target[:,0].numpy())\n",
    "ax.plot(sol1['t'].numpy(), sol1['y'][:,0].numpy())"
   ]
  },
  {
   "cell_type": "code",
   "execution_count": 13,
   "id": "15bbc53f",
   "metadata": {},
   "outputs": [],
   "source": [
    "# adjoint method"
   ]
  },
  {
   "cell_type": "code",
   "execution_count": 16,
   "id": "365f653d",
   "metadata": {},
   "outputs": [
    {
     "name": "stdout",
     "output_type": "stream",
     "text": [
      "WARNING:tensorflow:AutoGraph could not transform <bound method NeuralODE.grad_inps of <tensorflow.python.eager.function.TfMethodTarget object at 0x000001D29294EDC0>> and will run it as-is.\n",
      "Please report this to the TensorFlow team. When filing the bug, set the verbosity to 10 (on Linux, `export AUTOGRAPH_VERBOSITY=10`) and attach the full output.\n",
      "Cause: module 'gast' has no attribute 'Index'\n",
      "To silence this warning, decorate the function with @tf.autograph.experimental.do_not_convert\n",
      "WARNING: AutoGraph could not transform <bound method NeuralODE.grad_inps of <tensorflow.python.eager.function.TfMethodTarget object at 0x000001D29294EDC0>> and will run it as-is.\n",
      "Please report this to the TensorFlow team. When filing the bug, set the verbosity to 10 (on Linux, `export AUTOGRAPH_VERBOSITY=10`) and attach the full output.\n",
      "Cause: module 'gast' has no attribute 'Index'\n",
      "To silence this warning, decorate the function with @tf.autograph.experimental.do_not_convert\n",
      "WARNING:tensorflow:AutoGraph could not transform <bound method NeuralODE.grad_params of <tensorflow.python.eager.function.TfMethodTarget object at 0x000001D291336CD0>> and will run it as-is.\n",
      "Please report this to the TensorFlow team. When filing the bug, set the verbosity to 10 (on Linux, `export AUTOGRAPH_VERBOSITY=10`) and attach the full output.\n",
      "Cause: module 'gast' has no attribute 'Index'\n",
      "To silence this warning, decorate the function with @tf.autograph.experimental.do_not_convert\n",
      "WARNING: AutoGraph could not transform <bound method NeuralODE.grad_params of <tensorflow.python.eager.function.TfMethodTarget object at 0x000001D291336CD0>> and will run it as-is.\n",
      "Please report this to the TensorFlow team. When filing the bug, set the verbosity to 10 (on Linux, `export AUTOGRAPH_VERBOSITY=10`) and attach the full output.\n",
      "Cause: module 'gast' has no attribute 'Index'\n",
      "To silence this warning, decorate the function with @tf.autograph.experimental.do_not_convert\n"
     ]
    }
   ],
   "source": [
    "loss, dl_dy, a = n_ode.adjoint_method(t_target[0:3], y_target[0:3,:])"
   ]
  },
  {
   "cell_type": "code",
   "execution_count": 15,
   "id": "6c1a12e8",
   "metadata": {},
   "outputs": [],
   "source": [
    "# fit"
   ]
  },
  {
   "cell_type": "code",
   "execution_count": 19,
   "id": "13bbed15",
   "metadata": {},
   "outputs": [
    {
     "name": "stdout",
     "output_type": "stream",
     "text": [
      "--- Epoch #1 ---\n",
      "Total loss of epoch: 0.35424490831792355\n",
      "Elapsed time for epoch: 2.2613649368286133\n",
      "--- Epoch #2 ---\n",
      "Total loss of epoch: 0.3028665566816926\n",
      "Elapsed time for epoch: 2.1240234375\n",
      "--- Epoch #3 ---\n",
      "Total loss of epoch: 0.12583754118531942\n",
      "Elapsed time for epoch: 2.0518605709075928\n",
      "--- Epoch #4 ---\n",
      "Total loss of epoch: 0.20920523954555392\n",
      "Elapsed time for epoch: 2.8077049255371094\n",
      "--- Epoch #5 ---\n",
      "Total loss of epoch: 0.11579417996108532\n",
      "Elapsed time for epoch: 2.500103712081909\n",
      "--- Epoch #6 ---\n",
      "Total loss of epoch: 0.14598148223012686\n",
      "Elapsed time for epoch: 2.057159662246704\n",
      "--- Epoch #7 ---\n",
      "Total loss of epoch: 0.10314867692068219\n",
      "Elapsed time for epoch: 2.0066030025482178\n",
      "--- Epoch #8 ---\n",
      "Total loss of epoch: 0.0536558935418725\n",
      "Elapsed time for epoch: 2.3182601928710938\n",
      "--- Epoch #9 ---\n",
      "Total loss of epoch: 0.054390063625760376\n",
      "Elapsed time for epoch: 2.382230520248413\n",
      "--- Epoch #10 ---\n",
      "Total loss of epoch: 0.03490475320722908\n",
      "Elapsed time for epoch: 2.0779080390930176\n",
      "--- Epoch #11 ---\n",
      "Total loss of epoch: 0.035187856294214725\n",
      "Elapsed time for epoch: 2.1252357959747314\n",
      "--- Epoch #12 ---\n",
      "Total loss of epoch: 0.01839711971115321\n",
      "Elapsed time for epoch: 2.2583065032958984\n",
      "--- Epoch #13 ---\n",
      "Total loss of epoch: 0.025277065578848124\n",
      "Elapsed time for epoch: 2.101353645324707\n",
      "--- Epoch #14 ---\n",
      "Total loss of epoch: 0.02322817494859919\n",
      "Elapsed time for epoch: 2.1147263050079346\n",
      "--- Epoch #15 ---\n",
      "Total loss of epoch: 0.01807247073156759\n",
      "Elapsed time for epoch: 1.9969127178192139\n",
      "--- Epoch #16 ---\n",
      "Total loss of epoch: 0.009473657235503197\n",
      "Elapsed time for epoch: 1.8468124866485596\n",
      "--- Epoch #17 ---\n",
      "Total loss of epoch: 0.0073177226149709895\n",
      "Elapsed time for epoch: 1.8391246795654297\n",
      "--- Epoch #18 ---\n",
      "Total loss of epoch: 0.0081340191536583\n",
      "Elapsed time for epoch: 1.901818037033081\n",
      "--- Epoch #19 ---\n",
      "Total loss of epoch: 0.006859604851342738\n",
      "Elapsed time for epoch: 2.0900280475616455\n",
      "--- Epoch #20 ---\n",
      "Total loss of epoch: 0.0060036711365683\n",
      "Elapsed time for epoch: 2.334923505783081\n",
      "--- Epoch #21 ---\n",
      "Total loss of epoch: 0.003956865577492863\n",
      "Elapsed time for epoch: 1.9157180786132812\n",
      "--- Epoch #22 ---\n",
      "Total loss of epoch: 0.0021021793800173327\n",
      "Elapsed time for epoch: 1.8035707473754883\n",
      "--- Epoch #23 ---\n",
      "Total loss of epoch: 0.0032104233687277883\n",
      "Elapsed time for epoch: 1.9697554111480713\n",
      "--- Epoch #24 ---\n",
      "Total loss of epoch: 0.0030960228759795427\n",
      "Elapsed time for epoch: 2.211543560028076\n",
      "--- Epoch #25 ---\n",
      "Total loss of epoch: 0.001716906604997348\n",
      "Elapsed time for epoch: 1.9398524761199951\n",
      "--- Epoch #26 ---\n",
      "Total loss of epoch: 0.0010276212997268885\n",
      "Elapsed time for epoch: 2.351888418197632\n",
      "--- Epoch #27 ---\n",
      "Total loss of epoch: 0.0010083894158015028\n",
      "Elapsed time for epoch: 3.1560966968536377\n",
      "--- Epoch #28 ---\n",
      "Total loss of epoch: 0.0012765365336235845\n",
      "Elapsed time for epoch: 2.4414470195770264\n",
      "--- Epoch #29 ---\n",
      "Total loss of epoch: 0.0006461398370447569\n",
      "Elapsed time for epoch: 2.3419532775878906\n",
      "--- Epoch #30 ---\n",
      "Total loss of epoch: 0.0006287608994171023\n",
      "Elapsed time for epoch: 2.1492667198181152\n",
      "--- Epoch #31 ---\n",
      "Total loss of epoch: 0.0001637629638935323\n",
      "Elapsed time for epoch: 2.014211893081665\n",
      "--- Epoch #32 ---\n",
      "Total loss of epoch: 0.0001877224526651844\n",
      "Elapsed time for epoch: 2.1185028553009033\n",
      "--- Epoch #33 ---\n",
      "Total loss of epoch: 0.00012236464681336656\n",
      "Elapsed time for epoch: 2.0493505001068115\n",
      "--- Epoch #34 ---\n",
      "Total loss of epoch: 7.790691176978726e-05\n",
      "Elapsed time for epoch: 2.162383794784546\n",
      "--- Epoch #35 ---\n",
      "Total loss of epoch: 7.054238767523202e-05\n",
      "Elapsed time for epoch: 2.433633804321289\n",
      "--- Epoch #36 ---\n",
      "Total loss of epoch: 3.627424632668408e-05\n",
      "Elapsed time for epoch: 2.062976837158203\n",
      "--- Epoch #37 ---\n",
      "Total loss of epoch: 2.2011715259395714e-05\n",
      "Elapsed time for epoch: 2.21357798576355\n",
      "--- Epoch #38 ---\n",
      "Total loss of epoch: 1.6232417010542122e-05\n",
      "Elapsed time for epoch: 2.394524335861206\n",
      "--- Epoch #39 ---\n",
      "Total loss of epoch: 6.02540137606411e-06\n",
      "Elapsed time for epoch: 2.393203020095825\n",
      "--- Epoch #40 ---\n",
      "Total loss of epoch: 6.457759639033611e-06\n",
      "Elapsed time for epoch: 2.2083263397216797\n",
      "Total elapsed time: 87.55482411384583\n"
     ]
    }
   ],
   "source": [
    "n_epoch = 40\n",
    "n_ode.fit(t_target, y_target, n_epoch=n_epoch, n_fold=5, adjoint_method=False)"
   ]
  },
  {
   "cell_type": "code",
   "execution_count": null,
   "id": "de4e9e45",
   "metadata": {},
   "outputs": [],
   "source": []
  },
  {
   "cell_type": "code",
   "execution_count": null,
   "id": "d87b678e",
   "metadata": {},
   "outputs": [],
   "source": [
    "# Check derivatives"
   ]
  },
  {
   "cell_type": "code",
   "execution_count": null,
   "id": "0167fb83",
   "metadata": {},
   "outputs": [],
   "source": [
    "n_ode.model.variables[0].assign(np.array([[0.0, -k], [1.1, -c], [0.0, 1.0]]))\n",
    "n_ode.model.variables[1].assign(np.array([0,0]))"
   ]
  },
  {
   "cell_type": "code",
   "execution_count": null,
   "id": "df6fc847",
   "metadata": {},
   "outputs": [],
   "source": [
    "loss, dl_dp = n_ode.usual_method(t_target, y_target, x_external=f_ext_interp)\n",
    "#loss, dL_dy, a = n_ode.adjoint_method(t_target, y_target, x_external=f_ext_interp)\n",
    "#dl_dp = a[2:]"
   ]
  },
  {
   "cell_type": "code",
   "execution_count": null,
   "id": "cf50ab86",
   "metadata": {},
   "outputs": [],
   "source": [
    "dp = 0.00001\n",
    "n_ode.model.variables[0].assign(np.array([[0.0, -k], [1.1, -c+dp], [0.0, 1.0]]))\n",
    "n_ode.model.variables[1].assign(np.array([0,0]))"
   ]
  },
  {
   "cell_type": "code",
   "execution_count": null,
   "id": "d67f4acd",
   "metadata": {},
   "outputs": [],
   "source": [
    "loss2, dl_dp2 = n_ode.usual_method(t_target, y_target, x_external=f_ext_interp)"
   ]
  },
  {
   "cell_type": "code",
   "execution_count": null,
   "id": "d2d54ed0",
   "metadata": {},
   "outputs": [],
   "source": [
    "(loss2-loss)/dp"
   ]
  },
  {
   "cell_type": "code",
   "execution_count": null,
   "id": "ca18a191",
   "metadata": {},
   "outputs": [],
   "source": [
    "dl_dp"
   ]
  }
 ],
 "metadata": {
  "kernelspec": {
   "display_name": "Python 3",
   "language": "python",
   "name": "python3"
  },
  "language_info": {
   "codemirror_mode": {
    "name": "ipython",
    "version": 3
   },
   "file_extension": ".py",
   "mimetype": "text/x-python",
   "name": "python",
   "nbconvert_exporter": "python",
   "pygments_lexer": "ipython3",
   "version": "3.8.8"
  }
 },
 "nbformat": 4,
 "nbformat_minor": 5
}
