{
 "cells": [
  {
   "cell_type": "code",
   "execution_count": null,
   "id": "36fb956c",
   "metadata": {},
   "outputs": [],
   "source": [
    "import matplotlib.pyplot as plt\n",
    "import numpy as np\n",
    "import pandas as pd\n",
    "from scipy.integrate import solve_ivp\n",
    "from scipy.interpolate import interp1d\n",
    "\n",
    "import time\n",
    "import tensorflow as tf\n",
    "from tensorflow import keras\n",
    "from tensorflow.keras import layers\n",
    "%matplotlib qt"
   ]
  },
  {
   "cell_type": "code",
   "execution_count": null,
   "id": "7451289b",
   "metadata": {},
   "outputs": [],
   "source": [
    "import sys\n",
    "sys.path.append('..')\n",
    "import neural_ode.NeuralODE"
   ]
  },
  {
   "cell_type": "code",
   "execution_count": null,
   "id": "3142e700",
   "metadata": {},
   "outputs": [],
   "source": [
    "tf.keras.backend.set_floatx('float64')"
   ]
  },
  {
   "cell_type": "code",
   "execution_count": null,
   "id": "f64b01b4",
   "metadata": {},
   "outputs": [],
   "source": [
    "model = keras.Sequential(\n",
    "    [\n",
    "        keras.Input(shape=(2,)),\n",
    "        layers.Dense(2, name=\"layer1\"),\n",
    "    ]\n",
    ")\n"
   ]
  },
  {
   "cell_type": "code",
   "execution_count": null,
   "id": "b13cc574",
   "metadata": {},
   "outputs": [],
   "source": [
    "import neural_ode.ODESolvers"
   ]
  },
  {
   "cell_type": "code",
   "execution_count": null,
   "id": "8dbda1f9",
   "metadata": {},
   "outputs": [],
   "source": [
    "n_ode = neural_ode.NeuralODE.NeuralODE(model, 2, \n",
    "                                       solver=neural_ode.ODESolvers.BackwardEulerMethod())"
   ]
  },
  {
   "cell_type": "code",
   "execution_count": null,
   "id": "f61e7e19",
   "metadata": {},
   "outputs": [],
   "source": []
  },
  {
   "cell_type": "code",
   "execution_count": null,
   "id": "63c5b10e",
   "metadata": {
    "scrolled": true
   },
   "outputs": [],
   "source": [
    "n_ode.pretrain()"
   ]
  },
  {
   "cell_type": "code",
   "execution_count": null,
   "id": "2335fa2c",
   "metadata": {},
   "outputs": [],
   "source": [
    "# Generate solution"
   ]
  },
  {
   "cell_type": "code",
   "execution_count": null,
   "id": "d502d2ec",
   "metadata": {},
   "outputs": [],
   "source": [
    "#\n",
    "N_n = int(2)\n",
    "c = 0.1\n",
    "k = 4.0\n",
    "def oscilator(t, y):\n",
    "    return np.array([y[1], -c*y[1]-k*y[0]])\n",
    "t_final = 20.0\n",
    "n_eval = int(500)\n",
    "t_span = np.array([0.0, t_final])\n",
    "y0 = np.array([1.0, 0.0])"
   ]
  },
  {
   "cell_type": "code",
   "execution_count": null,
   "id": "b7b95262",
   "metadata": {},
   "outputs": [],
   "source": [
    "sol = solve_ivp(oscilator, t_span, y0, t_eval=np.linspace(0, t_final, num=n_eval))"
   ]
  },
  {
   "cell_type": "code",
   "execution_count": null,
   "id": "f83a9c9c",
   "metadata": {},
   "outputs": [],
   "source": [
    "plt.plot(sol.t, sol.y[0,:])"
   ]
  },
  {
   "cell_type": "code",
   "execution_count": null,
   "id": "b8693cb9",
   "metadata": {},
   "outputs": [],
   "source": [
    "# transform to tensorflow\n",
    "t_span_tf = tf.constant(t_span)\n",
    "y0_tf = tf.constant(y0, dtype=tf.float64)\n",
    "t_target = tf.constant(sol.t)\n",
    "y_target = tf.constant(np.transpose(sol.y) )"
   ]
  },
  {
   "cell_type": "code",
   "execution_count": null,
   "id": "dc85e374",
   "metadata": {},
   "outputs": [],
   "source": [
    "sol1 = n_ode.forward_solve(t_target[0:3], y_target[0,:])\n",
    "fig = plt.figure()\n",
    "ax = plt.gca()\n",
    "ax.plot(t_target.numpy(), y_target[:,0].numpy())\n",
    "ax.plot(sol1['t'].numpy(), sol1['y'][:,0].numpy())"
   ]
  },
  {
   "cell_type": "code",
   "execution_count": null,
   "id": "15bbc53f",
   "metadata": {},
   "outputs": [],
   "source": [
    "# adjoint method"
   ]
  },
  {
   "cell_type": "code",
   "execution_count": null,
   "id": "365f653d",
   "metadata": {},
   "outputs": [],
   "source": [
    "loss, dl_dy, a = n_ode.adjoint_method(t_target[0:3], y_target[0:3,:])"
   ]
  },
  {
   "cell_type": "code",
   "execution_count": null,
   "id": "6c1a12e8",
   "metadata": {},
   "outputs": [],
   "source": [
    "# fit"
   ]
  },
  {
   "cell_type": "code",
   "execution_count": null,
   "id": "13bbed15",
   "metadata": {},
   "outputs": [],
   "source": [
    "n_epoch = 40\n",
    "n_ode.fit(t_target, y_target, n_epoch=n_epoch, n_fold=5, adjoint_method=False)"
   ]
  },
  {
   "cell_type": "code",
   "execution_count": null,
   "id": "de4e9e45",
   "metadata": {},
   "outputs": [],
   "source": []
  },
  {
   "cell_type": "code",
   "execution_count": null,
   "id": "d87b678e",
   "metadata": {},
   "outputs": [],
   "source": [
    "# Check derivatives"
   ]
  },
  {
   "cell_type": "code",
   "execution_count": null,
   "id": "0167fb83",
   "metadata": {},
   "outputs": [],
   "source": [
    "n_ode.model.variables[0].assign(np.array([[0.0, -k], [1.1, -c], [0.0, 1.0]]))\n",
    "n_ode.model.variables[1].assign(np.array([0,0]))"
   ]
  },
  {
   "cell_type": "code",
   "execution_count": null,
   "id": "df6fc847",
   "metadata": {},
   "outputs": [],
   "source": [
    "loss, dl_dp = n_ode.usual_method(t_target, y_target, x_external=f_ext_interp)\n",
    "#loss, dL_dy, a = n_ode.adjoint_method(t_target, y_target, x_external=f_ext_interp)\n",
    "#dl_dp = a[2:]"
   ]
  },
  {
   "cell_type": "code",
   "execution_count": null,
   "id": "cf50ab86",
   "metadata": {},
   "outputs": [],
   "source": [
    "dp = 0.00001\n",
    "n_ode.model.variables[0].assign(np.array([[0.0, -k], [1.1, -c+dp], [0.0, 1.0]]))\n",
    "n_ode.model.variables[1].assign(np.array([0,0]))"
   ]
  },
  {
   "cell_type": "code",
   "execution_count": null,
   "id": "d67f4acd",
   "metadata": {},
   "outputs": [],
   "source": [
    "loss2, dl_dp2 = n_ode.usual_method(t_target, y_target, x_external=f_ext_interp)"
   ]
  },
  {
   "cell_type": "code",
   "execution_count": null,
   "id": "d2d54ed0",
   "metadata": {},
   "outputs": [],
   "source": [
    "(loss2-loss)/dp"
   ]
  },
  {
   "cell_type": "code",
   "execution_count": null,
   "id": "ca18a191",
   "metadata": {},
   "outputs": [],
   "source": [
    "dl_dp"
   ]
  }
 ],
 "metadata": {
  "kernelspec": {
   "display_name": "Python 3",
   "language": "python",
   "name": "python3"
  },
  "language_info": {
   "codemirror_mode": {
    "name": "ipython",
    "version": 3
   },
   "file_extension": ".py",
   "mimetype": "text/x-python",
   "name": "python",
   "nbconvert_exporter": "python",
   "pygments_lexer": "ipython3",
   "version": "3.8.8"
  }
 },
 "nbformat": 4,
 "nbformat_minor": 5
}
