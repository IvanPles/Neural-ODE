{
 "cells": [
  {
   "cell_type": "code",
   "execution_count": 1,
   "id": "36fb956c",
   "metadata": {},
   "outputs": [],
   "source": [
    "import matplotlib.pyplot as plt\n",
    "import numpy as np\n",
    "import pandas as pd\n",
    "from scipy.integrate import solve_ivp\n",
    "from scipy.interpolate import interp1d\n",
    "\n",
    "import time\n",
    "import tensorflow as tf\n",
    "from tensorflow import keras\n",
    "from tensorflow.keras import layers\n",
    "%matplotlib qt"
   ]
  },
  {
   "cell_type": "code",
   "execution_count": 2,
   "id": "7451289b",
   "metadata": {},
   "outputs": [],
   "source": [
    "import sys\n",
    "sys.path.append('..')\n",
    "import neural_ode.NeuralODE"
   ]
  },
  {
   "cell_type": "code",
   "execution_count": 3,
   "id": "3383ccfb",
   "metadata": {},
   "outputs": [],
   "source": [
    "import neural_ode.ODESolvers"
   ]
  },
  {
   "cell_type": "code",
   "execution_count": 4,
   "id": "3142e700",
   "metadata": {},
   "outputs": [],
   "source": [
    "tf.keras.backend.set_floatx('float64')"
   ]
  },
  {
   "cell_type": "code",
   "execution_count": 5,
   "id": "f64b01b4",
   "metadata": {},
   "outputs": [],
   "source": [
    "model = keras.Sequential(\n",
    "    [\n",
    "        keras.Input(shape=(2,)),\n",
    "        layers.Dense(2, name=\"layer1\"),\n",
    "    ]\n",
    ")\n"
   ]
  },
  {
   "cell_type": "code",
   "execution_count": 6,
   "id": "8dbda1f9",
   "metadata": {},
   "outputs": [],
   "source": [
    "n_ode = neural_ode.NeuralODE.NeuralODE(model, 2, \n",
    "                                       solver=neural_ode.ODESolvers.BackwardEulerMethod())"
   ]
  },
  {
   "cell_type": "code",
   "execution_count": null,
   "id": "f61e7e19",
   "metadata": {},
   "outputs": [],
   "source": [
    "n_ode.model.variables"
   ]
  },
  {
   "cell_type": "code",
   "execution_count": null,
   "id": "63c5b10e",
   "metadata": {
    "scrolled": true
   },
   "outputs": [],
   "source": [
    "n_ode.pretrain(t_scale=1.0, step_size=0.2, n_epoch = 1)"
   ]
  },
  {
   "cell_type": "code",
   "execution_count": null,
   "id": "2cc41ed0",
   "metadata": {},
   "outputs": [],
   "source": [
    "y0 = tf.constant([[3.0, 4.0]], dtype=tf.float64)\n",
    "resid = lambda y: y*y-tf.constant([[2.0, 3.0]], dtype=tf.float64)\n",
    "jac = lambda y: tf.eye(2, dtype=tf.float64)*y*2\n",
    "neural_ode.ODESolvers.Newtons_method(y0, resid, jac)"
   ]
  },
  {
   "cell_type": "code",
   "execution_count": null,
   "id": "78112236",
   "metadata": {},
   "outputs": [],
   "source": []
  },
  {
   "cell_type": "code",
   "execution_count": null,
   "id": "2335fa2c",
   "metadata": {},
   "outputs": [],
   "source": [
    "# Generate solution"
   ]
  },
  {
   "cell_type": "code",
   "execution_count": 7,
   "id": "d502d2ec",
   "metadata": {},
   "outputs": [],
   "source": [
    "#\n",
    "N_n = int(2)\n",
    "c = 0.1\n",
    "k = 4.0\n",
    "def oscilator(t, y):\n",
    "    return np.array([y[1], -c*y[1]-k*y[0]])\n",
    "t_final = 20.0\n",
    "n_eval = int(501)\n",
    "t_span = np.array([0.0, t_final])\n",
    "y0 = np.array([1.0, 0.0])"
   ]
  },
  {
   "cell_type": "code",
   "execution_count": 8,
   "id": "b7b95262",
   "metadata": {},
   "outputs": [],
   "source": [
    "sol = solve_ivp(oscilator, t_span, y0, t_eval=np.linspace(0, t_final, num=n_eval))"
   ]
  },
  {
   "cell_type": "code",
   "execution_count": 9,
   "id": "f83a9c9c",
   "metadata": {},
   "outputs": [
    {
     "data": {
      "text/plain": [
       "[<matplotlib.lines.Line2D at 0x1b191983790>]"
      ]
     },
     "execution_count": 9,
     "metadata": {},
     "output_type": "execute_result"
    }
   ],
   "source": [
    "plt.plot(sol.t, sol.y[0,:])"
   ]
  },
  {
   "cell_type": "code",
   "execution_count": 10,
   "id": "b8693cb9",
   "metadata": {},
   "outputs": [],
   "source": [
    "# transform to tensorflow\n",
    "t_span_tf = tf.constant(t_span)\n",
    "y0_tf = tf.constant(y0, dtype=tf.float64)\n",
    "t_target = tf.constant(sol.t)\n",
    "y_target = tf.constant(np.transpose(sol.y) )"
   ]
  },
  {
   "cell_type": "code",
   "execution_count": 11,
   "id": "dc85e374",
   "metadata": {},
   "outputs": [
    {
     "name": "stdout",
     "output_type": "stream",
     "text": [
      "dict_keys([])\n",
      "dict_keys(['jac'])\n",
      "WARNING:tensorflow:AutoGraph could not transform <bound method NeuralODE.grad_inps of <tensorflow.python.eager.function.TfMethodTarget object at 0x000001B191B308E0>> and will run it as-is.\n",
      "Please report this to the TensorFlow team. When filing the bug, set the verbosity to 10 (on Linux, `export AUTOGRAPH_VERBOSITY=10`) and attach the full output.\n",
      "Cause: module 'gast' has no attribute 'Index'\n",
      "To silence this warning, decorate the function with @tf.autograph.experimental.do_not_convert\n",
      "WARNING: AutoGraph could not transform <bound method NeuralODE.grad_inps of <tensorflow.python.eager.function.TfMethodTarget object at 0x000001B191B308E0>> and will run it as-is.\n",
      "Please report this to the TensorFlow team. When filing the bug, set the verbosity to 10 (on Linux, `export AUTOGRAPH_VERBOSITY=10`) and attach the full output.\n",
      "Cause: module 'gast' has no attribute 'Index'\n",
      "To silence this warning, decorate the function with @tf.autograph.experimental.do_not_convert\n",
      "tf.Tensor(\n",
      "[[-0.99187975 -1.00750565]\n",
      " [-1.01579025 -1.0060636 ]], shape=(2, 2), dtype=float64)\n",
      "tf.Tensor(\n",
      "[[ 1.84454454e-04]\n",
      " [-1.54364415e-05]], shape=(2, 1), dtype=float64)\n",
      "tf.Tensor([[ 1.00812025 -0.00750565]], shape=(1, 2), dtype=float64)\n",
      "tf.Tensor(\n",
      "[[-0.00788099]\n",
      " [ 0.00794184]], shape=(2, 1), dtype=float64)\n",
      "tf.Tensor(\n",
      "[[-0.99187975 -1.00750565]\n",
      " [-1.01579025 -1.0060636 ]], shape=(2, 2), dtype=float64)\n",
      "tf.Tensor(\n",
      "[[ 0.00787605]\n",
      " [-0.00794628]], shape=(2, 1), dtype=float64)\n",
      "tf.Tensor([[1.00023926e+00 4.36195928e-04]], shape=(1, 2), dtype=float64)\n",
      "tf.Tensor(\n",
      "[[-0.62419837]\n",
      " [ 0.62233474]], shape=(2, 1), dtype=float64)\n",
      "Max iterations is reached\n",
      "tf.Tensor(\n",
      "[[-0.99187975 -1.00750565]\n",
      " [-1.01579025 -1.0060636 ]], shape=(2, 2), dtype=float64)\n",
      "tf.Tensor(\n",
      "[[4.91379737e-05]\n",
      " [9.09012050e-05]], shape=(2, 1), dtype=float64)\n",
      "tf.Tensor([[0.36926072 0.61617227]], shape=(1, 2), dtype=float64)\n",
      "tf.Tensor(\n",
      "[[ 0.00165153]\n",
      " [-0.00157714]], shape=(2, 1), dtype=float64)\n",
      "tf.Tensor(\n",
      "[[-0.99187975 -1.00750565]\n",
      " [-1.01579025 -1.0060636 ]], shape=(2, 2), dtype=float64)\n",
      "tf.Tensor(\n",
      "[[-0.00156408]\n",
      " [ 0.00166521]], shape=(2, 1), dtype=float64)\n",
      "tf.Tensor([[0.37091226 0.61459513]], shape=(1, 2), dtype=float64)\n",
      "tf.Tensor(\n",
      "[[ 0.12739953]\n",
      " [-0.12697606]], shape=(2, 1), dtype=float64)\n",
      "Max iterations is reached\n",
      "tf.Tensor(\n",
      "[[-0.99187975 -1.00750565]\n",
      " [-1.01579025 -1.0060636 ]], shape=(2, 2), dtype=float64)\n",
      "tf.Tensor(\n",
      "[[7.60804328e-05]\n",
      " [6.80269472e-05]], shape=(2, 1), dtype=float64)\n",
      "tf.Tensor([[0.49465857 0.48092219]], shape=(1, 2), dtype=float64)\n",
      "tf.Tensor(\n",
      "[[-0.00031364]\n",
      " [ 0.00038429]], shape=(2, 1), dtype=float64)\n",
      "tf.Tensor(\n",
      "[[-0.99187975 -1.00750565]\n",
      " [-1.01579025 -1.0060636 ]], shape=(2, 2), dtype=float64)\n",
      "tf.Tensor(\n",
      "[[ 0.00038111]\n",
      " [-0.00031624]], shape=(2, 1), dtype=float64)\n",
      "tf.Tensor([[0.49434493 0.48130648]], shape=(1, 2), dtype=float64)\n",
      "tf.Tensor(\n",
      "[[-0.02750874]\n",
      " [ 0.02746036]], shape=(2, 1), dtype=float64)\n",
      "Max iterations is reached\n",
      "tf.Tensor(\n",
      "[[-0.99187975 -1.00750565]\n",
      " [-1.01579025 -1.0060636 ]], shape=(2, 2), dtype=float64)\n",
      "tf.Tensor(\n",
      "[[6.95878466e-05]\n",
      " [7.17967146e-05]], shape=(2, 1), dtype=float64)\n",
      "tf.Tensor([[0.46259346 0.50217798]], shape=(1, 2), dtype=float64)\n",
      "tf.Tensor(\n",
      "[[ 9.11351306e-05]\n",
      " [-2.06522358e-05]], shape=(2, 1), dtype=float64)\n",
      "tf.Tensor(\n",
      "[[-0.99187975 -1.00750565]\n",
      " [-1.01579025 -1.0060636 ]], shape=(2, 2), dtype=float64)\n",
      "tf.Tensor(\n",
      "[[-2.04811401e-05]\n",
      " [ 9.18901494e-05]], shape=(2, 1), dtype=float64)\n",
      "tf.Tensor([[0.4626846  0.50215733]], shape=(1, 2), dtype=float64)\n",
      "tf.Tensor(\n",
      "[[ 0.0044351 ]\n",
      " [-0.00438665]], shape=(2, 1), dtype=float64)\n",
      "Max iterations is reached\n"
     ]
    },
    {
     "data": {
      "text/plain": [
       "[<matplotlib.lines.Line2D at 0x1b191ec99d0>]"
      ]
     },
     "execution_count": 11,
     "metadata": {},
     "output_type": "execute_result"
    }
   ],
   "source": [
    "sol1 = n_ode.forward_solve(t_target[0:3], y_target[0,:])\n",
    "fig = plt.figure()\n",
    "ax = plt.gca()\n",
    "ax.plot(t_target.numpy(), y_target[:,0].numpy())\n",
    "ax.plot(sol1['t'].numpy(), sol1['y'][:,0].numpy())"
   ]
  },
  {
   "cell_type": "code",
   "execution_count": null,
   "id": "15bbc53f",
   "metadata": {},
   "outputs": [],
   "source": [
    "# adjoint method"
   ]
  },
  {
   "cell_type": "code",
   "execution_count": null,
   "id": "365f653d",
   "metadata": {},
   "outputs": [],
   "source": [
    "loss, dl_dy, a = n_ode.adjoint_method(t_target[0:3], y_target[0:3,:])"
   ]
  },
  {
   "cell_type": "code",
   "execution_count": null,
   "id": "6c1a12e8",
   "metadata": {},
   "outputs": [],
   "source": [
    "# fit"
   ]
  },
  {
   "cell_type": "code",
   "execution_count": null,
   "id": "13bbed15",
   "metadata": {},
   "outputs": [],
   "source": [
    "n_epoch = 40\n",
    "n_ode.fit(t_target, y_target, n_epoch=n_epoch, n_fold=5, adjoint_method=False)"
   ]
  },
  {
   "cell_type": "code",
   "execution_count": null,
   "id": "de4e9e45",
   "metadata": {},
   "outputs": [],
   "source": []
  },
  {
   "cell_type": "code",
   "execution_count": null,
   "id": "d87b678e",
   "metadata": {},
   "outputs": [],
   "source": [
    "# Check derivatives"
   ]
  },
  {
   "cell_type": "code",
   "execution_count": null,
   "id": "0167fb83",
   "metadata": {},
   "outputs": [],
   "source": [
    "n_ode.model.variables[0].assign(np.array([[0.0, -k], [1.1, -c]]))\n",
    "n_ode.model.variables[1].assign(np.array([0,0]))"
   ]
  },
  {
   "cell_type": "code",
   "execution_count": null,
   "id": "df6fc847",
   "metadata": {},
   "outputs": [],
   "source": [
    "loss, dl_dp = n_ode.usual_method(t_target, y_target, x_external=f_ext_interp)\n",
    "#loss, dL_dy, a = n_ode.adjoint_method(t_target, y_target, x_external=f_ext_interp)\n",
    "#dl_dp = a[2:]"
   ]
  },
  {
   "cell_type": "code",
   "execution_count": null,
   "id": "57831171",
   "metadata": {},
   "outputs": [],
   "source": [
    "n_ode.model.variables[0].assign(np.array([[0.0, -k], [1.0, -c]]))\n",
    "n_ode.model.variables[1].assign(np.array([0,0]))"
   ]
  },
  {
   "cell_type": "code",
   "execution_count": null,
   "id": "cf50ab86",
   "metadata": {},
   "outputs": [],
   "source": [
    "dp = 0.00001\n",
    "n_ode.model.variables[0].assign(np.array([[0.0, -k], [1.1, -c+dp], [0.0, 1.0]]))\n",
    "n_ode.model.variables[1].assign(np.array([0,0]))"
   ]
  },
  {
   "cell_type": "code",
   "execution_count": null,
   "id": "d67f4acd",
   "metadata": {},
   "outputs": [],
   "source": [
    "loss2, dl_dp2 = n_ode.usual_method(t_target, y_target, x_external=f_ext_interp)"
   ]
  },
  {
   "cell_type": "code",
   "execution_count": null,
   "id": "d2d54ed0",
   "metadata": {},
   "outputs": [],
   "source": [
    "(loss2-loss)/dp"
   ]
  },
  {
   "cell_type": "code",
   "execution_count": null,
   "id": "ca18a191",
   "metadata": {},
   "outputs": [],
   "source": [
    "dl_dp"
   ]
  }
 ],
 "metadata": {
  "kernelspec": {
   "display_name": "Python 3",
   "language": "python",
   "name": "python3"
  },
  "language_info": {
   "codemirror_mode": {
    "name": "ipython",
    "version": 3
   },
   "file_extension": ".py",
   "mimetype": "text/x-python",
   "name": "python",
   "nbconvert_exporter": "python",
   "pygments_lexer": "ipython3",
   "version": "3.8.8"
  }
 },
 "nbformat": 4,
 "nbformat_minor": 5
}
