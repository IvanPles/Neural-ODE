{
 "cells": [
  {
   "cell_type": "code",
   "execution_count": null,
   "id": "36fb956c",
   "metadata": {},
   "outputs": [],
   "source": [
    "import matplotlib.pyplot as plt\n",
    "import numpy as np\n",
    "import pandas as pd\n",
    "from scipy.integrate import solve_ivp\n",
    "from scipy.interpolate import interp1d\n",
    "\n",
    "import time\n",
    "import tensorflow as tf\n",
    "from tensorflow import keras\n",
    "from tensorflow.keras import layers\n",
    "%matplotlib qt"
   ]
  },
  {
   "cell_type": "code",
   "execution_count": 2,
   "id": "7451289b",
   "metadata": {},
   "outputs": [],
   "source": [
    "import sys\n",
    "sys.path.append('..')\n",
    "import neural_ode.NeuralODE"
   ]
  },
  {
   "cell_type": "code",
   "execution_count": 3,
   "id": "3383ccfb",
   "metadata": {},
   "outputs": [],
   "source": [
    "import neural_ode.ODESolvers"
   ]
  },
  {
   "cell_type": "code",
   "execution_count": 4,
   "id": "3142e700",
   "metadata": {},
   "outputs": [],
   "source": [
    "tf.keras.backend.set_floatx('float64')"
   ]
  },
  {
   "cell_type": "code",
   "execution_count": 5,
   "id": "f64b01b4",
   "metadata": {},
   "outputs": [],
   "source": [
    "model = keras.Sequential(\n",
    "    [\n",
    "        keras.Input(shape=(2,)),\n",
    "        layers.Dense(2, name=\"layer1\"),\n",
    "    ]\n",
    ")\n"
   ]
  },
  {
   "cell_type": "code",
   "execution_count": 6,
   "id": "8dbda1f9",
   "metadata": {},
   "outputs": [],
   "source": [
    "n_ode = neural_ode.NeuralODE.NeuralODE(model, 2, \n",
    "                                       solver=neural_ode.ODESolvers.HeunsMethod())"
   ]
  },
  {
   "cell_type": "code",
   "execution_count": 7,
   "id": "f61e7e19",
   "metadata": {},
   "outputs": [
    {
     "data": {
      "text/plain": [
       "[<tf.Variable 'layer1/kernel:0' shape=(2, 2) dtype=float64, numpy=\n",
       " array([[-0.77324656, -0.38915579],\n",
       "        [ 0.19777676,  0.79469954]])>,\n",
       " <tf.Variable 'layer1/bias:0' shape=(2,) dtype=float64, numpy=array([0., 0.])>]"
      ]
     },
     "execution_count": 7,
     "metadata": {},
     "output_type": "execute_result"
    }
   ],
   "source": [
    "n_ode.model.variables"
   ]
  },
  {
   "cell_type": "code",
   "execution_count": null,
   "id": "63c5b10e",
   "metadata": {
    "scrolled": true
   },
   "outputs": [],
   "source": [
    "n_ode.pretrain(t_scale=1.0, step_size=0.5, n_epoch = 1)"
   ]
  },
  {
   "cell_type": "code",
   "execution_count": null,
   "id": "25ca313f",
   "metadata": {},
   "outputs": [],
   "source": [
    "# test newtons method"
   ]
  },
  {
   "cell_type": "code",
   "execution_count": null,
   "id": "2cc41ed0",
   "metadata": {},
   "outputs": [],
   "source": [
    "y0 = tf.constant([[3.0, 4.0]], dtype=tf.float64)\n",
    "resid = lambda y: y*y-tf.constant([[2.0, 3.0]], dtype=tf.float64)\n",
    "jac = lambda y: tf.eye(2, dtype=tf.float64)*y*2\n",
    "neural_ode.ODESolvers.newtons_method(y0, resid, jac)"
   ]
  },
  {
   "cell_type": "code",
   "execution_count": null,
   "id": "db099a5c",
   "metadata": {},
   "outputs": [],
   "source": [
    "sol11"
   ]
  },
  {
   "cell_type": "code",
   "execution_count": null,
   "id": "2e691bee",
   "metadata": {},
   "outputs": [],
   "source": [
    "resid(sol11)"
   ]
  },
  {
   "cell_type": "code",
   "execution_count": null,
   "id": "78112236",
   "metadata": {},
   "outputs": [],
   "source": [
    "n_ode.model.variables"
   ]
  },
  {
   "cell_type": "code",
   "execution_count": null,
   "id": "2335fa2c",
   "metadata": {},
   "outputs": [],
   "source": [
    "# Generate solution"
   ]
  },
  {
   "cell_type": "code",
   "execution_count": 8,
   "id": "d502d2ec",
   "metadata": {},
   "outputs": [],
   "source": [
    "#\n",
    "N_n = int(2)\n",
    "c = 0.1\n",
    "k = 4.0\n",
    "def oscilator(t, y):\n",
    "    return np.array([y[1], -c*y[1]-k*y[0]])\n",
    "t_final = 20.0\n",
    "n_eval = int(501)\n",
    "t_span = np.array([0.0, t_final])\n",
    "y0 = np.array([1.0, 0.0])"
   ]
  },
  {
   "cell_type": "code",
   "execution_count": 9,
   "id": "b7b95262",
   "metadata": {},
   "outputs": [],
   "source": [
    "sol = solve_ivp(oscilator, t_span, y0, t_eval=np.linspace(0, t_final, num=n_eval))"
   ]
  },
  {
   "cell_type": "code",
   "execution_count": 10,
   "id": "f83a9c9c",
   "metadata": {},
   "outputs": [
    {
     "data": {
      "text/plain": [
       "[<matplotlib.lines.Line2D at 0x1aef802ea60>]"
      ]
     },
     "execution_count": 10,
     "metadata": {},
     "output_type": "execute_result"
    }
   ],
   "source": [
    "plt.plot(sol.t, sol.y[0,:])"
   ]
  },
  {
   "cell_type": "code",
   "execution_count": null,
   "id": "f34b8844",
   "metadata": {},
   "outputs": [],
   "source": []
  },
  {
   "cell_type": "code",
   "execution_count": null,
   "id": "f38821be",
   "metadata": {},
   "outputs": [],
   "source": []
  },
  {
   "cell_type": "code",
   "execution_count": 11,
   "id": "b8693cb9",
   "metadata": {},
   "outputs": [],
   "source": [
    "# transform to tensorflow\n",
    "t_span_tf = tf.constant(t_span)\n",
    "y0_tf = tf.constant(y0, dtype=tf.float64)\n",
    "t_target = tf.constant(sol.t)\n",
    "y_target = tf.constant(np.transpose(sol.y) )"
   ]
  },
  {
   "cell_type": "code",
   "execution_count": null,
   "id": "13175111",
   "metadata": {},
   "outputs": [],
   "source": [
    "sol, _ = n_ode.solver(n_ode.ode_wrap, tf.constant([0.0, 0.1], dtype=tf.float64), tf.expand_dims(y0_tf, axis=0),\n",
    "                            step_size=0.05, jac = n_ode.grad_inps_wrap)"
   ]
  },
  {
   "cell_type": "code",
   "execution_count": null,
   "id": "ead2bc58",
   "metadata": {},
   "outputs": [],
   "source": [
    "plt.plot(sol['t'].numpy(), sol['y'][:,0].numpy())"
   ]
  },
  {
   "cell_type": "code",
   "execution_count": null,
   "id": "dc85e374",
   "metadata": {},
   "outputs": [],
   "source": [
    "sol1 = n_ode.forward_solve(t_target, y_target[0,:])\n",
    "fig = plt.figure()\n",
    "ax = plt.gca()\n",
    "ax.plot(t_target.numpy(), y_target[:,0].numpy())\n",
    "ax.plot(sol1['t'].numpy(), sol1['y'][:,0].numpy())"
   ]
  },
  {
   "cell_type": "code",
   "execution_count": null,
   "id": "15bbc53f",
   "metadata": {},
   "outputs": [],
   "source": [
    "# adjoint method"
   ]
  },
  {
   "cell_type": "code",
   "execution_count": null,
   "id": "365f653d",
   "metadata": {},
   "outputs": [],
   "source": [
    "loss, dl_dy, a = n_ode.adjoint_method(t_target[0:3], y_target[0:3,:])"
   ]
  },
  {
   "cell_type": "code",
   "execution_count": null,
   "id": "b7165484",
   "metadata": {},
   "outputs": [],
   "source": []
  },
  {
   "cell_type": "code",
   "execution_count": null,
   "id": "fe44d954",
   "metadata": {},
   "outputs": [],
   "source": []
  },
  {
   "cell_type": "code",
   "execution_count": 39,
   "id": "eca4b232",
   "metadata": {},
   "outputs": [
    {
     "data": {
      "text/plain": [
       "<tf.Variable 'UnreadVariable' shape=(2,) dtype=float64, numpy=array([0.2, 0. ])>"
      ]
     },
     "execution_count": 39,
     "metadata": {},
     "output_type": "execute_result"
    }
   ],
   "source": [
    "n_ode.model.variables[0].assign(np.array([[0.3, -k+1.0], [1.3, -c+0.2]]))\n",
    "n_ode.model.variables[1].assign(np.array([0.2,0]))"
   ]
  },
  {
   "cell_type": "code",
   "execution_count": null,
   "id": "6c1a12e8",
   "metadata": {},
   "outputs": [],
   "source": [
    "# fit"
   ]
  },
  {
   "cell_type": "code",
   "execution_count": 40,
   "id": "13bbed15",
   "metadata": {
    "scrolled": true
   },
   "outputs": [
    {
     "name": "stdout",
     "output_type": "stream",
     "text": [
      "12\n",
      "--- Epoch #1 ---\n",
      "Total loss of epoch: 1.307338409125805\n",
      "Elapsed time for epoch: 1.2411830425262451\n",
      "--- Epoch #2 ---\n",
      "Total loss of epoch: 1.3931036740541458\n",
      "Elapsed time for epoch: 1.403458833694458\n",
      "--- Epoch #3 ---\n",
      "Total loss of epoch: 0.6336121559143066\n",
      "Elapsed time for epoch: 1.2503232955932617\n",
      "--- Epoch #4 ---\n",
      "Total loss of epoch: 0.9058390399441123\n",
      "Elapsed time for epoch: 1.2418205738067627\n",
      "--- Epoch #5 ---\n",
      "Total loss of epoch: 0.4058857779018581\n",
      "Elapsed time for epoch: 1.2449767589569092\n",
      "--- Epoch #6 ---\n",
      "Total loss of epoch: 0.38198162452317774\n",
      "Elapsed time for epoch: 1.234116792678833\n",
      "--- Epoch #7 ---\n",
      "Total loss of epoch: 0.29011498484760523\n",
      "Elapsed time for epoch: 1.2789292335510254\n",
      "--- Epoch #8 ---\n",
      "Total loss of epoch: 0.20313754677772522\n",
      "Elapsed time for epoch: 1.4017608165740967\n",
      "--- Epoch #9 ---\n",
      "Total loss of epoch: 0.23812321806326509\n",
      "Elapsed time for epoch: 1.3188748359680176\n",
      "--- Epoch #10 ---\n",
      "Total loss of epoch: 0.18918147933436558\n",
      "Elapsed time for epoch: 1.3062083721160889\n",
      "--- Epoch #11 ---\n",
      "Total loss of epoch: 0.2652553324587643\n",
      "Elapsed time for epoch: 1.3200786113739014\n",
      "--- Epoch #12 ---\n",
      "Total loss of epoch: 0.21532506705261767\n",
      "Elapsed time for epoch: 1.2978558540344238\n",
      "--- Epoch #13 ---\n",
      "Total loss of epoch: 0.2880920129828155\n",
      "Elapsed time for epoch: 1.2415001392364502\n",
      "--- Epoch #14 ---\n",
      "Total loss of epoch: 0.34168801084160805\n",
      "Elapsed time for epoch: 1.2401278018951416\n",
      "--- Epoch #15 ---\n",
      "Total loss of epoch: 0.3499487368389964\n",
      "Elapsed time for epoch: 1.27968430519104\n",
      "--- Epoch #16 ---\n",
      "Total loss of epoch: 0.4027314705308527\n",
      "Elapsed time for epoch: 1.30814528465271\n",
      "--- Epoch #17 ---\n",
      "Total loss of epoch: 0.3980557220056653\n",
      "Elapsed time for epoch: 1.2855103015899658\n",
      "--- Epoch #18 ---\n",
      "Total loss of epoch: 0.6032655064482242\n",
      "Elapsed time for epoch: 1.3852956295013428\n",
      "--- Epoch #19 ---\n",
      "Total loss of epoch: 0.42632125318050385\n",
      "Elapsed time for epoch: 1.4190294742584229\n",
      "--- Epoch #20 ---\n",
      "Total loss of epoch: 0.5528138669906184\n",
      "Elapsed time for epoch: 1.287813663482666\n",
      "--- Epoch #21 ---\n",
      "Total loss of epoch: 0.4477615747600794\n",
      "Elapsed time for epoch: 1.272139310836792\n",
      "--- Epoch #22 ---\n",
      "Total loss of epoch: 0.6530794547870755\n",
      "Elapsed time for epoch: 1.2344655990600586\n",
      "--- Epoch #23 ---\n",
      "Total loss of epoch: 0.745783694088459\n",
      "Elapsed time for epoch: 1.2569611072540283\n",
      "--- Epoch #24 ---\n",
      "Total loss of epoch: 0.983258930966258\n",
      "Elapsed time for epoch: 1.29305100440979\n",
      "--- Epoch #25 ---\n",
      "Total loss of epoch: 1.3047894425690174\n",
      "Elapsed time for epoch: 1.264770269393921\n",
      "--- Epoch #26 ---\n",
      "Total loss of epoch: 1.4241345450282097\n",
      "Elapsed time for epoch: 1.3722419738769531\n",
      "--- Epoch #27 ---\n",
      "Total loss of epoch: 1.0345485536381602\n",
      "Elapsed time for epoch: 1.2743864059448242\n",
      "--- Epoch #28 ---\n",
      "Total loss of epoch: 0.9613134497776628\n",
      "Elapsed time for epoch: 1.258728265762329\n",
      "--- Epoch #29 ---\n",
      "Total loss of epoch: 0.3134964774362743\n",
      "Elapsed time for epoch: 1.2441463470458984\n",
      "--- Epoch #30 ---\n",
      "Total loss of epoch: 0.23174520314205438\n",
      "Elapsed time for epoch: 1.2605702877044678\n",
      "Total elapsed time: 38.718154191970825\n"
     ]
    }
   ],
   "source": [
    "n_epoch = 30\n",
    "n_ode.fit(t_target, y_target, n_epoch=n_epoch, n_fold=10, adjoint_method=False, \n",
    "          opt=tf.keras.optimizers.Adam(learning_rate=0.2), conjugate=True)"
   ]
  },
  {
   "cell_type": "code",
   "execution_count": 38,
   "id": "3c10f7ab",
   "metadata": {
    "scrolled": true
   },
   "outputs": [
    {
     "name": "stdout",
     "output_type": "stream",
     "text": [
      "12\n",
      "--- Epoch #1 ---\n",
      "Total loss of epoch: 0.963888140860945\n",
      "Elapsed time for epoch: 1.3265092372894287\n",
      "--- Epoch #2 ---\n",
      "Total loss of epoch: 0.32587061217054725\n",
      "Elapsed time for epoch: 1.3407642841339111\n",
      "--- Epoch #3 ---\n",
      "Total loss of epoch: 0.12520851369481534\n",
      "Elapsed time for epoch: 1.3659987449645996\n",
      "--- Epoch #4 ---\n",
      "Total loss of epoch: 0.0724606157746166\n",
      "Elapsed time for epoch: 1.4257349967956543\n",
      "--- Epoch #5 ---\n",
      "Total loss of epoch: 0.03744320513214916\n",
      "Elapsed time for epoch: 1.307999610900879\n",
      "--- Epoch #6 ---\n",
      "Total loss of epoch: 0.023122608254197985\n",
      "Elapsed time for epoch: 1.3046317100524902\n",
      "--- Epoch #7 ---\n",
      "Total loss of epoch: 0.012711232528090477\n",
      "Elapsed time for epoch: 1.4035277366638184\n",
      "--- Epoch #8 ---\n",
      "Total loss of epoch: 0.008447044572676532\n",
      "Elapsed time for epoch: 1.3032073974609375\n",
      "--- Epoch #9 ---\n",
      "Total loss of epoch: 0.005641877360176295\n",
      "Elapsed time for epoch: 1.3879101276397705\n",
      "--- Epoch #10 ---\n",
      "Total loss of epoch: 0.005621706921374425\n",
      "Elapsed time for epoch: 1.3864896297454834\n",
      "--- Epoch #11 ---\n",
      "Total loss of epoch: 0.003917384798114654\n",
      "Elapsed time for epoch: 1.4937372207641602\n",
      "--- Epoch #12 ---\n",
      "Total loss of epoch: 0.005940693932643626\n",
      "Elapsed time for epoch: 1.3722255229949951\n",
      "--- Epoch #13 ---\n",
      "Total loss of epoch: 0.005337438269634731\n",
      "Elapsed time for epoch: 1.3813390731811523\n",
      "--- Epoch #14 ---\n",
      "Total loss of epoch: 0.005114501931529958\n",
      "Elapsed time for epoch: 1.239837884902954\n",
      "--- Epoch #15 ---\n",
      "Total loss of epoch: 0.006117218421422876\n",
      "Elapsed time for epoch: 1.2640488147735596\n",
      "--- Epoch #16 ---\n",
      "Total loss of epoch: 0.00816340088567813\n",
      "Elapsed time for epoch: 1.2545759677886963\n",
      "--- Epoch #17 ---\n",
      "Total loss of epoch: 0.004635967772628646\n",
      "Elapsed time for epoch: 1.2656807899475098\n",
      "--- Epoch #18 ---\n",
      "Total loss of epoch: 0.006625634166994132\n",
      "Elapsed time for epoch: 1.2484850883483887\n",
      "--- Epoch #19 ---\n",
      "Total loss of epoch: 0.008567253760702442\n",
      "Elapsed time for epoch: 1.2587230205535889\n",
      "--- Epoch #20 ---\n",
      "Total loss of epoch: 0.004739679345220793\n",
      "Elapsed time for epoch: 1.2358253002166748\n",
      "--- Epoch #21 ---\n",
      "Total loss of epoch: 0.005880610404346953\n",
      "Elapsed time for epoch: 1.3491463661193848\n",
      "--- Epoch #22 ---\n",
      "Total loss of epoch: 0.0071249852244363865\n",
      "Elapsed time for epoch: 1.261301040649414\n",
      "--- Epoch #23 ---\n",
      "Total loss of epoch: 0.007950426526804222\n",
      "Elapsed time for epoch: 1.3212313652038574\n",
      "--- Epoch #24 ---\n",
      "Total loss of epoch: 0.004935022694553481\n",
      "Elapsed time for epoch: 1.4034628868103027\n",
      "--- Epoch #25 ---\n",
      "Total loss of epoch: 0.0068574644610635005\n",
      "Elapsed time for epoch: 1.3189029693603516\n",
      "--- Epoch #26 ---\n",
      "Total loss of epoch: 0.00830683493768447\n",
      "Elapsed time for epoch: 1.2721900939941406\n",
      "--- Epoch #27 ---\n",
      "Total loss of epoch: 0.004955390581017127\n",
      "Elapsed time for epoch: 1.2642836570739746\n",
      "--- Epoch #28 ---\n",
      "Total loss of epoch: 0.005895090600461117\n",
      "Elapsed time for epoch: 1.2409796714782715\n",
      "--- Epoch #29 ---\n",
      "Total loss of epoch: 0.00702754121448379\n",
      "Elapsed time for epoch: 1.3389453887939453\n",
      "--- Epoch #30 ---\n",
      "Total loss of epoch: 0.00800197742137243\n",
      "Elapsed time for epoch: 1.271564245223999\n",
      "Total elapsed time: 39.62488150596619\n"
     ]
    }
   ],
   "source": [
    "n_epoch = 30\n",
    "n_ode.fit(t_target, y_target, n_epoch=n_epoch, n_fold=10, adjoint_method=False, \n",
    "          opt=tf.keras.optimizers.SGD(learning_rate=0.8), conjugate=True)"
   ]
  },
  {
   "cell_type": "code",
   "execution_count": null,
   "id": "1f40514d",
   "metadata": {},
   "outputs": [],
   "source": []
  },
  {
   "cell_type": "code",
   "execution_count": null,
   "id": "93502358",
   "metadata": {},
   "outputs": [],
   "source": []
  },
  {
   "cell_type": "code",
   "execution_count": null,
   "id": "9dd355b0",
   "metadata": {},
   "outputs": [],
   "source": []
  },
  {
   "cell_type": "code",
   "execution_count": null,
   "id": "d87b678e",
   "metadata": {},
   "outputs": [],
   "source": [
    "# Check derivatives"
   ]
  },
  {
   "cell_type": "code",
   "execution_count": null,
   "id": "927b34e1",
   "metadata": {},
   "outputs": [],
   "source": [
    "n_ode.model.variables[0].assign(np.array([[0.0, -k], [1.0, -c]]))\n",
    "n_ode.model.variables[1].assign(np.array([0,0]))"
   ]
  },
  {
   "cell_type": "code",
   "execution_count": null,
   "id": "0167fb83",
   "metadata": {},
   "outputs": [],
   "source": [
    "n_ode.model.variables[0].assign(np.array([[0.0, -k], [1.1, -c]]))\n",
    "n_ode.model.variables[1].assign(np.array([0,0]))"
   ]
  },
  {
   "cell_type": "code",
   "execution_count": null,
   "id": "df6fc847",
   "metadata": {},
   "outputs": [],
   "source": [
    "loss, dl_dp = n_ode.usual_method(t_target, y_target)\n",
    "#loss, dL_dy, a = n_ode.adjoint_method(t_target, y_target)\n",
    "#dl_dp = a[2:]"
   ]
  },
  {
   "cell_type": "code",
   "execution_count": null,
   "id": "cf50ab86",
   "metadata": {},
   "outputs": [],
   "source": [
    "dp = 0.00001\n",
    "n_ode.model.variables[0].assign(np.array([[0.0, -k], [1.1, -c+dp]]))\n",
    "n_ode.model.variables[1].assign(np.array([0,0]))"
   ]
  },
  {
   "cell_type": "code",
   "execution_count": null,
   "id": "d67f4acd",
   "metadata": {},
   "outputs": [],
   "source": [
    "loss2, dl_dp2 = n_ode.usual_method(t_target, y_target)"
   ]
  },
  {
   "cell_type": "code",
   "execution_count": null,
   "id": "d2d54ed0",
   "metadata": {},
   "outputs": [],
   "source": [
    "(loss2-loss)/dp"
   ]
  },
  {
   "cell_type": "code",
   "execution_count": null,
   "id": "ca18a191",
   "metadata": {},
   "outputs": [],
   "source": [
    "dl_dp"
   ]
  },
  {
   "cell_type": "code",
   "execution_count": null,
   "id": "6cf59c0e",
   "metadata": {},
   "outputs": [],
   "source": []
  },
  {
   "cell_type": "code",
   "execution_count": null,
   "id": "b3d9000e",
   "metadata": {},
   "outputs": [],
   "source": []
  }
 ],
 "metadata": {
  "kernelspec": {
   "display_name": "Python 3",
   "language": "python",
   "name": "python3"
  },
  "language_info": {
   "codemirror_mode": {
    "name": "ipython",
    "version": 3
   },
   "file_extension": ".py",
   "mimetype": "text/x-python",
   "name": "python",
   "nbconvert_exporter": "python",
   "pygments_lexer": "ipython3",
   "version": "3.8.8"
  }
 },
 "nbformat": 4,
 "nbformat_minor": 5
}
