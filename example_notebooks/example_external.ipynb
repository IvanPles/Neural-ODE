{
 "cells": [
  {
   "cell_type": "code",
   "execution_count": 1,
   "id": "36fb956c",
   "metadata": {},
   "outputs": [],
   "source": [
    "import matplotlib.pyplot as plt\n",
    "import numpy as np\n",
    "import pandas as pd\n",
    "from scipy.integrate import solve_ivp\n",
    "from scipy.interpolate import interp1d\n",
    "\n",
    "import time\n",
    "import tensorflow as tf\n",
    "from tensorflow import keras\n",
    "from tensorflow.keras import layers\n",
    "%matplotlib qt"
   ]
  },
  {
   "cell_type": "code",
   "execution_count": 2,
   "id": "7451289b",
   "metadata": {},
   "outputs": [],
   "source": [
    "import sys\n",
    "sys.path.append('..')\n",
    "import neural_ode.NeuralODE"
   ]
  },
  {
   "cell_type": "code",
   "execution_count": 3,
   "id": "3142e700",
   "metadata": {},
   "outputs": [],
   "source": [
    "tf.keras.backend.set_floatx('float64')"
   ]
  },
  {
   "cell_type": "code",
   "execution_count": 4,
   "id": "f64b01b4",
   "metadata": {},
   "outputs": [],
   "source": [
    "model = keras.Sequential(\n",
    "    [\n",
    "        keras.Input(shape=(3,)),\n",
    "        layers.Dense(2, name=\"layer1\"),\n",
    "    ]\n",
    ")"
   ]
  },
  {
   "cell_type": "code",
   "execution_count": 5,
   "id": "8dbda1f9",
   "metadata": {},
   "outputs": [],
   "source": [
    "n_ode = neural_ode.NeuralODE.NeuralODE(model, 2, n_external=1)"
   ]
  },
  {
   "cell_type": "code",
   "execution_count": 7,
   "id": "0c150d77",
   "metadata": {},
   "outputs": [
    {
     "name": "stdout",
     "output_type": "stream",
     "text": [
      "tf.Tensor([-0.13708417  0.22908976], shape=(2,), dtype=float64)\n",
      "tf.Tensor([ 0.01636936 -0.06492924], shape=(2,), dtype=float64)\n",
      "tf.Tensor([ 0.06829486 -0.16639969], shape=(2,), dtype=float64)\n",
      "tf.Tensor([ 0.06684586 -0.16232818], shape=(2,), dtype=float64)\n",
      "tf.Tensor([ 0.04822951 -0.12286619], shape=(2,), dtype=float64)\n",
      "tf.Tensor([ 0.02774415 -0.07850376], shape=(2,), dtype=float64)\n",
      "tf.Tensor([ 0.01012668 -0.03924915], shape=(2,), dtype=float64)\n",
      "tf.Tensor([-0.00372692 -0.00739726], shape=(2,), dtype=float64)\n",
      "tf.Tensor([-0.01404717  0.01716939], shape=(2,), dtype=float64)\n",
      "tf.Tensor([-0.02131578  0.03519688], shape=(2,), dtype=float64)\n"
     ]
    }
   ],
   "source": [
    "n_ode.pretrain()"
   ]
  },
  {
   "cell_type": "code",
   "execution_count": 37,
   "id": "2335fa2c",
   "metadata": {},
   "outputs": [],
   "source": [
    "# Generate solution"
   ]
  },
  {
   "cell_type": "code",
   "execution_count": 38,
   "id": "d502d2ec",
   "metadata": {},
   "outputs": [],
   "source": [
    "#\n",
    "N_n = int(2)\n",
    "c = 0.4\n",
    "k = 4.0\n",
    "def oscilator(t, y, f):\n",
    "    f_val = f(t)\n",
    "    return np.array([y[1], -c*y[1]-k*y[0]+f_val])\n",
    "t_final = 200.0\n",
    "n_eval = int(1000)\n",
    "t_span = np.array([0.0, t_final])\n",
    "t_eval = np.linspace(0, t_final, num=n_eval)\n",
    "y0 = np.array([1.0, 0.0])\n",
    "#\n",
    "f_ext = np.vstack(( np.zeros((200,1)), np.ones((400,1))*0.5, np.ones((400,1)) ) )\n",
    "f_interp = interp1d(t_eval, f_ext, kind='linear', axis=0)"
   ]
  },
  {
   "cell_type": "code",
   "execution_count": 39,
   "id": "b7b95262",
   "metadata": {},
   "outputs": [
    {
     "name": "stderr",
     "output_type": "stream",
     "text": [
      "<ipython-input-38-7ae9c9a7a2c5>:7: VisibleDeprecationWarning: Creating an ndarray from ragged nested sequences (which is a list-or-tuple of lists-or-tuples-or ndarrays with different lengths or shapes) is deprecated. If you meant to do this, you must specify 'dtype=object' when creating the ndarray.\n",
      "  return np.array([y[1], -c*y[1]-k*y[0]+f_val])\n"
     ]
    }
   ],
   "source": [
    "func_1 = lambda t,y: oscilator(t,y,f_interp)\n",
    "sol = solve_ivp(func_1, t_span, y0, t_eval=t_eval)"
   ]
  },
  {
   "cell_type": "code",
   "execution_count": 40,
   "id": "f83a9c9c",
   "metadata": {},
   "outputs": [
    {
     "data": {
      "text/plain": [
       "[<matplotlib.lines.Line2D at 0x1aef7c11f70>]"
      ]
     },
     "execution_count": 40,
     "metadata": {},
     "output_type": "execute_result"
    }
   ],
   "source": [
    "plt.plot(sol.t, sol.y[0,:])"
   ]
  },
  {
   "cell_type": "code",
   "execution_count": 41,
   "id": "b8693cb9",
   "metadata": {},
   "outputs": [],
   "source": [
    "# transform to tensorflow\n",
    "t_span_tf = tf.constant(t_span)\n",
    "y0_tf = tf.constant(y0, dtype=tf.float64)\n",
    "#\n",
    "t_target = tf.constant(sol.t)\n",
    "y_target = tf.constant(np.transpose(sol.y) )\n",
    "f_ext_tf = tf.constant(f_ext)"
   ]
  },
  {
   "cell_type": "code",
   "execution_count": 42,
   "id": "ab7ab448",
   "metadata": {},
   "outputs": [],
   "source": [
    "# interpolation in tf\n",
    "f_ext_interp_np = interp1d(t_eval, f_ext, kind='linear', axis=0)\n",
    "f_ext_interp = lambda t: tf.expand_dims(tf.constant(f_ext_interp_np(t)), axis=0)"
   ]
  },
  {
   "cell_type": "code",
   "execution_count": 43,
   "id": "dc85e374",
   "metadata": {},
   "outputs": [
    {
     "data": {
      "text/plain": [
       "[<matplotlib.lines.Line2D at 0x1aef64c5790>]"
      ]
     },
     "execution_count": 43,
     "metadata": {},
     "output_type": "execute_result"
    }
   ],
   "source": [
    "sol1 = n_ode.forward_solve(t_target, y_target[0,:], x_external=f_ext_interp)\n",
    "fig = plt.figure()\n",
    "ax = plt.gca()\n",
    "ax.plot(t_target.numpy(), y_target[:,0].numpy())\n",
    "ax.plot(sol1['t'].numpy(), sol1['y'][:,0].numpy())"
   ]
  },
  {
   "cell_type": "code",
   "execution_count": null,
   "id": "ff5aad07",
   "metadata": {},
   "outputs": [],
   "source": [
    "# pretrain"
   ]
  },
  {
   "cell_type": "code",
   "execution_count": null,
   "id": "1214f89c",
   "metadata": {},
   "outputs": [],
   "source": []
  },
  {
   "cell_type": "code",
   "execution_count": null,
   "id": "15bbc53f",
   "metadata": {},
   "outputs": [],
   "source": [
    "# adjoint method"
   ]
  },
  {
   "cell_type": "code",
   "execution_count": null,
   "id": "365f653d",
   "metadata": {},
   "outputs": [],
   "source": [
    "loss, dl_dy, a = n_ode.adjoint_method(t_target[0:3], y_target[0:3,:])"
   ]
  },
  {
   "cell_type": "code",
   "execution_count": null,
   "id": "6c1a12e8",
   "metadata": {},
   "outputs": [],
   "source": [
    "# fit"
   ]
  },
  {
   "cell_type": "code",
   "execution_count": 44,
   "id": "13bbed15",
   "metadata": {},
   "outputs": [
    {
     "name": "stdout",
     "output_type": "stream",
     "text": [
      "--- Epoch #1 ---\n",
      "Total loss of epoch: 0.27813935256563127\n",
      "Elapsed time for epoch: 6.419644832611084\n",
      "--- Epoch #2 ---\n",
      "Total loss of epoch: 0.1632336052134633\n",
      "Elapsed time for epoch: 5.068451881408691\n",
      "--- Epoch #3 ---\n",
      "Total loss of epoch: 0.11598923848941922\n",
      "Elapsed time for epoch: 5.496361017227173\n",
      "--- Epoch #4 ---\n",
      "Total loss of epoch: 0.10611814400181174\n",
      "Elapsed time for epoch: 5.884210824966431\n",
      "--- Epoch #5 ---\n",
      "Total loss of epoch: 0.09845541452523321\n",
      "Elapsed time for epoch: 6.177792072296143\n",
      "--- Epoch #6 ---\n",
      "Total loss of epoch: 0.09846931812353432\n",
      "Elapsed time for epoch: 5.3530638217926025\n",
      "--- Epoch #7 ---\n",
      "Total loss of epoch: 0.0887346864619758\n",
      "Elapsed time for epoch: 5.9479429721832275\n",
      "--- Epoch #8 ---\n",
      "Total loss of epoch: 0.08960514192585833\n",
      "Elapsed time for epoch: 5.546143531799316\n",
      "--- Epoch #9 ---\n",
      "Total loss of epoch: 0.08926902036182582\n",
      "Elapsed time for epoch: 5.305544137954712\n",
      "--- Epoch #10 ---\n",
      "Total loss of epoch: 0.08803501449438045\n",
      "Elapsed time for epoch: 6.836256980895996\n",
      "--- Epoch #11 ---\n",
      "Total loss of epoch: 0.08726674313948024\n",
      "Elapsed time for epoch: 7.182775020599365\n",
      "--- Epoch #12 ---\n",
      "Total loss of epoch: 0.08722864647279494\n",
      "Elapsed time for epoch: 6.398565053939819\n",
      "--- Epoch #13 ---\n",
      "Total loss of epoch: 0.0867294453219074\n",
      "Elapsed time for epoch: 5.35155463218689\n",
      "--- Epoch #14 ---\n",
      "Total loss of epoch: 0.08663208207582329\n",
      "Elapsed time for epoch: 5.871313095092773\n",
      "--- Epoch #15 ---\n",
      "Total loss of epoch: 0.08623184605130518\n",
      "Elapsed time for epoch: 6.2648024559021\n",
      "--- Epoch #16 ---\n",
      "Total loss of epoch: 0.08612505927158054\n",
      "Elapsed time for epoch: 5.747599363327026\n",
      "--- Epoch #17 ---\n",
      "Total loss of epoch: 0.0857718550505524\n",
      "Elapsed time for epoch: 6.181714296340942\n",
      "--- Epoch #18 ---\n",
      "Total loss of epoch: 0.08561892711560404\n",
      "Elapsed time for epoch: 5.583128452301025\n",
      "--- Epoch #19 ---\n",
      "Total loss of epoch: 0.085365641497674\n",
      "Elapsed time for epoch: 6.466033697128296\n",
      "--- Epoch #20 ---\n",
      "Total loss of epoch: 0.08519062530149313\n",
      "Elapsed time for epoch: 5.710855722427368\n",
      "--- Epoch #21 ---\n",
      "Total loss of epoch: 0.08499007688419624\n",
      "Elapsed time for epoch: 5.4988508224487305\n",
      "--- Epoch #22 ---\n",
      "Total loss of epoch: 0.08483093718632517\n",
      "Elapsed time for epoch: 5.550212621688843\n",
      "--- Epoch #23 ---\n",
      "Total loss of epoch: 0.08480527428491769\n",
      "Elapsed time for epoch: 6.071828365325928\n",
      "--- Epoch #24 ---\n",
      "Total loss of epoch: 0.08449276676208228\n",
      "Elapsed time for epoch: 5.947369337081909\n",
      "--- Epoch #25 ---\n",
      "Total loss of epoch: 0.08438904381017664\n",
      "Elapsed time for epoch: 5.334754228591919\n",
      "--- Epoch #26 ---\n",
      "Total loss of epoch: 0.0841953466028258\n",
      "Elapsed time for epoch: 6.084404230117798\n",
      "--- Epoch #27 ---\n",
      "Total loss of epoch: 0.08403061023636837\n",
      "Elapsed time for epoch: 5.253143548965454\n",
      "--- Epoch #28 ---\n",
      "Total loss of epoch: 0.08400500580557946\n",
      "Elapsed time for epoch: 5.5689167976379395\n",
      "--- Epoch #29 ---\n",
      "Total loss of epoch: 0.08375053846759783\n",
      "Elapsed time for epoch: 5.643475770950317\n",
      "--- Epoch #30 ---\n",
      "Total loss of epoch: 0.08358894496723224\n",
      "Elapsed time for epoch: 5.298094272613525\n",
      "--- Epoch #31 ---\n",
      "Total loss of epoch: 0.08356836522943922\n",
      "Elapsed time for epoch: 6.017215728759766\n",
      "--- Epoch #32 ---\n",
      "Total loss of epoch: 0.08334356206171378\n",
      "Elapsed time for epoch: 5.641774654388428\n",
      "--- Epoch #33 ---\n",
      "Total loss of epoch: 0.08317848733804567\n",
      "Elapsed time for epoch: 5.42479133605957\n",
      "--- Epoch #34 ---\n",
      "Total loss of epoch: 0.0830980586501937\n",
      "Elapsed time for epoch: 5.943806171417236\n",
      "--- Epoch #35 ---\n",
      "Total loss of epoch: 0.0830158776020653\n",
      "Elapsed time for epoch: 5.475860118865967\n",
      "--- Epoch #36 ---\n",
      "Total loss of epoch: 0.08286649751670438\n",
      "Elapsed time for epoch: 6.009204626083374\n",
      "--- Epoch #37 ---\n",
      "Total loss of epoch: 0.08271335568281302\n",
      "Elapsed time for epoch: 8.743399858474731\n",
      "--- Epoch #38 ---\n",
      "Total loss of epoch: 0.08259213475707838\n",
      "Elapsed time for epoch: 6.665025234222412\n",
      "--- Epoch #39 ---\n",
      "Total loss of epoch: 0.08246290364445485\n",
      "Elapsed time for epoch: 6.87626051902771\n",
      "--- Epoch #40 ---\n",
      "Total loss of epoch: 0.08235825332735658\n",
      "Elapsed time for epoch: 5.865128755569458\n",
      "Total elapsed time: 237.71048831939697\n"
     ]
    }
   ],
   "source": [
    "n_epoch = 40\n",
    "n_ode.fit(t_target, y_target, n_epoch=n_epoch, n_fold=5, adjoint_method=False, x_external=f_ext_tf)"
   ]
  },
  {
   "cell_type": "code",
   "execution_count": null,
   "id": "de4e9e45",
   "metadata": {},
   "outputs": [],
   "source": []
  },
  {
   "cell_type": "code",
   "execution_count": null,
   "id": "c70f41f7",
   "metadata": {},
   "outputs": [],
   "source": [
    "# Check derivatives"
   ]
  },
  {
   "cell_type": "code",
   "execution_count": 45,
   "id": "00e6d54f",
   "metadata": {},
   "outputs": [
    {
     "data": {
      "text/plain": [
       "<tf.Variable 'UnreadVariable' shape=(2,) dtype=float64, numpy=array([0., 0.])>"
      ]
     },
     "execution_count": 45,
     "metadata": {},
     "output_type": "execute_result"
    }
   ],
   "source": [
    "n_ode.model.variables[0].assign(np.array([[0.0, -k], [1.1, -c], [0.0, 1.0]]))\n",
    "n_ode.model.variables[1].assign(np.array([0,0]))"
   ]
  },
  {
   "cell_type": "code",
   "execution_count": 46,
   "id": "064b9619",
   "metadata": {},
   "outputs": [],
   "source": [
    "loss, dl_dp = n_ode.usual_method(t_target, y_target, x_external=f_ext_interp)\n",
    "#loss, dL_dy, a = n_ode.adjoint_method(t_target, y_target, x_external=f_ext_interp)\n",
    "#dl_dp = a[2:]"
   ]
  },
  {
   "cell_type": "code",
   "execution_count": 47,
   "id": "74b49496",
   "metadata": {},
   "outputs": [
    {
     "data": {
      "text/plain": [
       "<tf.Variable 'UnreadVariable' shape=(2,) dtype=float64, numpy=array([0., 0.])>"
      ]
     },
     "execution_count": 47,
     "metadata": {},
     "output_type": "execute_result"
    }
   ],
   "source": [
    "dp = 0.00001\n",
    "n_ode.model.variables[0].assign(np.array([[0.0, -k], [1.1, -c+dp], [0.0, 1.0]]))\n",
    "n_ode.model.variables[1].assign(np.array([0,0]))"
   ]
  },
  {
   "cell_type": "code",
   "execution_count": 48,
   "id": "6e9e0da1",
   "metadata": {},
   "outputs": [],
   "source": [
    "loss2, dl_dp2 = n_ode.usual_method(t_target, y_target, x_external=f_ext_interp)"
   ]
  },
  {
   "cell_type": "code",
   "execution_count": 49,
   "id": "ab32f25e",
   "metadata": {},
   "outputs": [
    {
     "data": {
      "text/plain": [
       "<tf.Tensor: shape=(), dtype=float64, numpy=0.008684583008289337>"
      ]
     },
     "execution_count": 49,
     "metadata": {},
     "output_type": "execute_result"
    }
   ],
   "source": [
    "(loss2-loss)/dp"
   ]
  },
  {
   "cell_type": "code",
   "execution_count": 50,
   "id": "9f8f19ff",
   "metadata": {},
   "outputs": [
    {
     "data": {
      "text/plain": [
       "[<tf.Tensor: shape=(3, 2), dtype=float64, numpy=\n",
       " array([[ 4.37851349e-03, -1.01596591e-02],\n",
       "        [ 3.64566900e-02,  8.68960490e-03],\n",
       "        [ 5.37464029e-04,  3.81110846e-05]])>,\n",
       " <tf.Tensor: shape=(2,), dtype=float64, numpy=array([-0.00406165, -0.00025477])>]"
      ]
     },
     "execution_count": 50,
     "metadata": {},
     "output_type": "execute_result"
    }
   ],
   "source": [
    "dl_dp"
   ]
  },
  {
   "cell_type": "code",
   "execution_count": null,
   "id": "d5b812cd",
   "metadata": {},
   "outputs": [],
   "source": []
  }
 ],
 "metadata": {
  "kernelspec": {
   "display_name": "Python 3",
   "language": "python",
   "name": "python3"
  },
  "language_info": {
   "codemirror_mode": {
    "name": "ipython",
    "version": 3
   },
   "file_extension": ".py",
   "mimetype": "text/x-python",
   "name": "python",
   "nbconvert_exporter": "python",
   "pygments_lexer": "ipython3",
   "version": "3.8.8"
  }
 },
 "nbformat": 4,
 "nbformat_minor": 5
}
