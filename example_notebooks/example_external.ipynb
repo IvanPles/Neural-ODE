{
 "cells": [
  {
   "cell_type": "code",
   "execution_count": 1,
   "id": "36fb956c",
   "metadata": {},
   "outputs": [],
   "source": [
    "import matplotlib.pyplot as plt\n",
    "import numpy as np\n",
    "import pandas as pd\n",
    "from scipy.integrate import solve_ivp\n",
    "from scipy.interpolate import interp1d\n",
    "\n",
    "import time\n",
    "import tensorflow as tf\n",
    "from tensorflow import keras\n",
    "from tensorflow.keras import layers\n",
    "%matplotlib qt"
   ]
  },
  {
   "cell_type": "code",
   "execution_count": 2,
   "id": "7451289b",
   "metadata": {},
   "outputs": [],
   "source": [
    "import sys\n",
    "sys.path.append('..')\n",
    "import neural_ode.NeuralODE"
   ]
  },
  {
   "cell_type": "code",
   "execution_count": 3,
   "id": "3142e700",
   "metadata": {},
   "outputs": [],
   "source": [
    "tf.keras.backend.set_floatx('float64')"
   ]
  },
  {
   "cell_type": "code",
   "execution_count": 4,
   "id": "f64b01b4",
   "metadata": {},
   "outputs": [],
   "source": [
    "model = keras.Sequential(\n",
    "    [\n",
    "        keras.Input(shape=(3,)),\n",
    "        layers.Dense(2, name=\"layer1\"),\n",
    "    ]\n",
    ")"
   ]
  },
  {
   "cell_type": "code",
   "execution_count": 5,
   "id": "8dbda1f9",
   "metadata": {},
   "outputs": [],
   "source": [
    "n_ode = neural_ode.NeuralODE.NeuralODE(model, 2, n_external=1)"
   ]
  },
  {
   "cell_type": "code",
   "execution_count": 6,
   "id": "0c150d77",
   "metadata": {},
   "outputs": [],
   "source": [
    "n_ode.pretrain()"
   ]
  },
  {
   "cell_type": "code",
   "execution_count": 7,
   "id": "ce9963a1",
   "metadata": {},
   "outputs": [
    {
     "data": {
      "text/plain": [
       "[<tf.Variable 'layer1/kernel:0' shape=(3, 2) dtype=float64, numpy=\n",
       " array([[-0.25860932,  0.97980293],\n",
       "        [-0.60579677, -0.86430932],\n",
       "        [ 0.07128016,  0.04312767]])>,\n",
       " <tf.Variable 'layer1/bias:0' shape=(2,) dtype=float64, numpy=array([0.00678932, 0.06752207])>]"
      ]
     },
     "execution_count": 7,
     "metadata": {},
     "output_type": "execute_result"
    }
   ],
   "source": [
    "n_ode.model.variables"
   ]
  },
  {
   "cell_type": "code",
   "execution_count": null,
   "id": "2335fa2c",
   "metadata": {},
   "outputs": [],
   "source": [
    "# Generate solution"
   ]
  },
  {
   "cell_type": "code",
   "execution_count": 9,
   "id": "d502d2ec",
   "metadata": {},
   "outputs": [],
   "source": [
    "#\n",
    "N_n = int(2)\n",
    "c = 0.4\n",
    "k = 4.0\n",
    "def oscilator(t, y, f):\n",
    "    f_val = f(t)\n",
    "    return np.array([y[1], -c*y[1]-k*y[0]+f_val])\n",
    "t_final = 200.0\n",
    "n_eval = int(1000)\n",
    "t_span = np.array([0.0, t_final])\n",
    "t_eval = np.linspace(0, t_final, num=n_eval)\n",
    "y0 = np.array([1.0, 0.0])\n",
    "#\n",
    "f_ext = np.vstack(( np.zeros((200,1)), np.ones((400,1))*0.5, np.ones((400,1)) ) )\n",
    "f_interp = interp1d(t_eval, f_ext, kind='linear', axis=0)"
   ]
  },
  {
   "cell_type": "code",
   "execution_count": 10,
   "id": "b7b95262",
   "metadata": {},
   "outputs": [
    {
     "name": "stderr",
     "output_type": "stream",
     "text": [
      "<ipython-input-9-7ae9c9a7a2c5>:7: VisibleDeprecationWarning: Creating an ndarray from ragged nested sequences (which is a list-or-tuple of lists-or-tuples-or ndarrays with different lengths or shapes) is deprecated. If you meant to do this, you must specify 'dtype=object' when creating the ndarray\n",
      "  return np.array([y[1], -c*y[1]-k*y[0]+f_val])\n"
     ]
    }
   ],
   "source": [
    "func_1 = lambda t,y: oscilator(t,y,f_interp)\n",
    "sol = solve_ivp(func_1, t_span, y0, t_eval=t_eval)"
   ]
  },
  {
   "cell_type": "code",
   "execution_count": 11,
   "id": "f83a9c9c",
   "metadata": {},
   "outputs": [
    {
     "data": {
      "text/plain": [
       "[<matplotlib.lines.Line2D at 0x17d7d051430>]"
      ]
     },
     "execution_count": 11,
     "metadata": {},
     "output_type": "execute_result"
    }
   ],
   "source": [
    "plt.plot(sol.t, sol.y[0,:])"
   ]
  },
  {
   "cell_type": "code",
   "execution_count": 12,
   "id": "b8693cb9",
   "metadata": {},
   "outputs": [],
   "source": [
    "# transform to tensorflow\n",
    "t_span_tf = tf.constant(t_span)\n",
    "y0_tf = tf.constant(y0, dtype=tf.float64)\n",
    "#\n",
    "t_target = tf.constant(sol.t)\n",
    "y_target = tf.constant(np.transpose(sol.y) )\n",
    "f_ext_tf = tf.constant(f_ext)"
   ]
  },
  {
   "cell_type": "code",
   "execution_count": 13,
   "id": "ab7ab448",
   "metadata": {},
   "outputs": [],
   "source": [
    "# interpolation in tf\n",
    "f_ext_interp_np = interp1d(t_eval, f_ext, kind='linear', axis=0)\n",
    "f_ext_interp = lambda t: tf.expand_dims(tf.constant(f_ext_interp_np(t)), axis=0)"
   ]
  },
  {
   "cell_type": "code",
   "execution_count": 31,
   "id": "dc85e374",
   "metadata": {},
   "outputs": [
    {
     "data": {
      "text/plain": [
       "[<matplotlib.lines.Line2D at 0x1e76b925e50>]"
      ]
     },
     "execution_count": 31,
     "metadata": {},
     "output_type": "execute_result"
    }
   ],
   "source": [
    "sol1 = n_ode.forward_solve(t_target, y_target[0,:], x_external=f_ext_interp)\n",
    "fig = plt.figure()\n",
    "ax = plt.gca()\n",
    "ax.plot(t_target.numpy(), y_target[:,0].numpy())\n",
    "ax.plot(sol1['t'].numpy(), sol1['y'][:,0].numpy())"
   ]
  },
  {
   "cell_type": "code",
   "execution_count": null,
   "id": "1214f89c",
   "metadata": {},
   "outputs": [],
   "source": []
  },
  {
   "cell_type": "code",
   "execution_count": null,
   "id": "15bbc53f",
   "metadata": {},
   "outputs": [],
   "source": [
    "# adjoint method"
   ]
  },
  {
   "cell_type": "code",
   "execution_count": null,
   "id": "365f653d",
   "metadata": {},
   "outputs": [],
   "source": [
    "loss, dl_dy, a = n_ode.adjoint_method(t_target[0:3], y_target[0:3,:], x_external=f_ext_interp)"
   ]
  },
  {
   "cell_type": "code",
   "execution_count": null,
   "id": "6c1a12e8",
   "metadata": {},
   "outputs": [],
   "source": [
    "# fit"
   ]
  },
  {
   "cell_type": "code",
   "execution_count": 33,
   "id": "13bbed15",
   "metadata": {
    "scrolled": true
   },
   "outputs": [
    {
     "name": "stdout",
     "output_type": "stream",
     "text": [
      "--- Epoch #1 ---\n",
      "Total loss of epoch: 0.004285733836240979\n",
      "Elapsed time for epoch: 3.1290781497955322\n",
      "--- Epoch #2 ---\n",
      "Total loss of epoch: 0.004205989417755518\n",
      "Elapsed time for epoch: 3.0294241905212402\n",
      "--- Epoch #3 ---\n",
      "Total loss of epoch: 0.004124341470287618\n",
      "Elapsed time for epoch: 3.0759212970733643\n",
      "--- Epoch #4 ---\n",
      "Total loss of epoch: 0.004039161653622614\n",
      "Elapsed time for epoch: 2.9795660972595215\n",
      "--- Epoch #5 ---\n",
      "Total loss of epoch: 0.00393219243301246\n",
      "Elapsed time for epoch: 3.223402976989746\n",
      "--- Epoch #6 ---\n",
      "Total loss of epoch: 0.0038041678810714075\n",
      "Elapsed time for epoch: 3.1197292804718018\n",
      "--- Epoch #7 ---\n",
      "Total loss of epoch: 0.003733541022143072\n",
      "Elapsed time for epoch: 3.1735928058624268\n",
      "--- Epoch #8 ---\n",
      "Total loss of epoch: 0.003619611626390906\n",
      "Elapsed time for epoch: 3.175157308578491\n",
      "--- Epoch #9 ---\n",
      "Total loss of epoch: 0.0036032558132319537\n",
      "Elapsed time for epoch: 3.0761942863464355\n",
      "--- Epoch #10 ---\n",
      "Total loss of epoch: 0.0034607241736921424\n",
      "Elapsed time for epoch: 3.0891900062561035\n",
      "Total elapsed time: 31.071256399154663\n"
     ]
    }
   ],
   "source": [
    "n_epoch = 10\n",
    "n_ode.fit(t_target, y_target, n_epoch=n_epoch, n_fold=5, adjoint_method=False, x_external=f_ext_tf)"
   ]
  },
  {
   "cell_type": "code",
   "execution_count": null,
   "id": "c70f41f7",
   "metadata": {},
   "outputs": [],
   "source": [
    "# Check derivatives"
   ]
  },
  {
   "cell_type": "code",
   "execution_count": 35,
   "id": "00e6d54f",
   "metadata": {},
   "outputs": [
    {
     "data": {
      "text/plain": [
       "<tf.Variable 'UnreadVariable' shape=(2,) dtype=float64, numpy=array([0., 0.])>"
      ]
     },
     "execution_count": 35,
     "metadata": {},
     "output_type": "execute_result"
    }
   ],
   "source": [
    "n_ode.model.variables[0].assign(np.array([[0.0, -k], [1.1, -c], [0.0, 1.0]]))\n",
    "n_ode.model.variables[1].assign(np.array([0,0]))"
   ]
  },
  {
   "cell_type": "code",
   "execution_count": 36,
   "id": "064b9619",
   "metadata": {},
   "outputs": [],
   "source": [
    "#loss, dl_dp = n_ode.usual_method(t_target, y_target, x_external=f_ext_interp)\n",
    "loss, dL_dy, a = n_ode.adjoint_method(t_target, y_target, x_external=f_ext_interp)\n",
    "dl_dp = a[0, 2:]"
   ]
  },
  {
   "cell_type": "code",
   "execution_count": 37,
   "id": "74b49496",
   "metadata": {},
   "outputs": [
    {
     "data": {
      "text/plain": [
       "<tf.Variable 'UnreadVariable' shape=(2,) dtype=float64, numpy=array([0., 0.])>"
      ]
     },
     "execution_count": 37,
     "metadata": {},
     "output_type": "execute_result"
    }
   ],
   "source": [
    "dp = 0.00001\n",
    "n_ode.model.variables[0].assign(np.array([[0.0, -k+dp], [1.1, -c], [0.0, 1.0]]))\n",
    "n_ode.model.variables[1].assign(np.array([0,0]))"
   ]
  },
  {
   "cell_type": "code",
   "execution_count": 38,
   "id": "6e9e0da1",
   "metadata": {},
   "outputs": [],
   "source": [
    "loss2, dl_dp2 = n_ode.usual_method(t_target, y_target, x_external=f_ext_interp)"
   ]
  },
  {
   "cell_type": "code",
   "execution_count": 39,
   "id": "ab32f25e",
   "metadata": {},
   "outputs": [
    {
     "data": {
      "text/plain": [
       "<tf.Tensor: shape=(), dtype=float64, numpy=-0.010174699127674103>"
      ]
     },
     "execution_count": 39,
     "metadata": {},
     "output_type": "execute_result"
    }
   ],
   "source": [
    "(loss2-loss)/dp"
   ]
  },
  {
   "cell_type": "code",
   "execution_count": 40,
   "id": "9f8f19ff",
   "metadata": {},
   "outputs": [
    {
     "data": {
      "text/plain": [
       "<tf.Tensor: shape=(8,), dtype=float64, numpy=\n",
       "array([ 4.33630119e-03, -1.00475903e-02,  3.60513989e-02,  8.59889971e-03,\n",
       "        5.37464028e-04,  3.81110847e-05, -4.06164777e-03, -2.54769737e-04])>"
      ]
     },
     "execution_count": 40,
     "metadata": {},
     "output_type": "execute_result"
    }
   ],
   "source": [
    "dl_dp"
   ]
  },
  {
   "cell_type": "code",
   "execution_count": null,
   "id": "3a49d4b0",
   "metadata": {},
   "outputs": [],
   "source": []
  }
 ],
 "metadata": {
  "kernelspec": {
   "display_name": "Python 3",
   "language": "python",
   "name": "python3"
  },
  "language_info": {
   "codemirror_mode": {
    "name": "ipython",
    "version": 3
   },
   "file_extension": ".py",
   "mimetype": "text/x-python",
   "name": "python",
   "nbconvert_exporter": "python",
   "pygments_lexer": "ipython3",
   "version": "3.8.8"
  }
 },
 "nbformat": 4,
 "nbformat_minor": 5
}
