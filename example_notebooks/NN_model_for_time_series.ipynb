{
 "cells": [
  {
   "cell_type": "code",
   "execution_count": null,
   "id": "a973ac76",
   "metadata": {},
   "outputs": [],
   "source": [
    "import matplotlib.pyplot as plt\n",
    "import numpy as np\n",
    "import pandas as pd\n",
    "from scipy.integrate import solve_ivp\n",
    "from scipy.interpolate import interp1d\n",
    "\n",
    "from sklearn.model_selection import KFold\n",
    "from random import shuffle\n",
    "\n",
    "import time\n",
    "import tensorflow as tf\n",
    "from tensorflow import keras\n",
    "from tensorflow.keras import layers\n",
    "%matplotlib qt"
   ]
  },
  {
   "cell_type": "code",
   "execution_count": null,
   "id": "18e4c95a",
   "metadata": {},
   "outputs": [],
   "source": [
    "#"
   ]
  },
  {
   "cell_type": "code",
   "execution_count": null,
   "id": "5fb82354",
   "metadata": {},
   "outputs": [],
   "source": [
    "tf.keras.backend.set_floatx('float64')"
   ]
  },
  {
   "cell_type": "code",
   "execution_count": null,
   "id": "c9906a7d",
   "metadata": {},
   "outputs": [],
   "source": [
    "model = keras.Sequential(\n",
    "    [\n",
    "        keras.Input(shape=(2,)),\n",
    "        layers.Dense(6, name=\"layer1\", activation='elu'),\n",
    "        layers.Dense(1, name=\"layer2\"),\n",
    "    ]\n",
    ")\n"
   ]
  },
  {
   "cell_type": "code",
   "execution_count": null,
   "id": "d2adf3a6",
   "metadata": {},
   "outputs": [],
   "source": []
  },
  {
   "cell_type": "code",
   "execution_count": null,
   "id": "2be0077a",
   "metadata": {},
   "outputs": [],
   "source": [
    "# Generate solution"
   ]
  },
  {
   "cell_type": "code",
   "execution_count": null,
   "id": "db7c2e6b",
   "metadata": {},
   "outputs": [],
   "source": [
    "#\n",
    "N_n = int(2)\n",
    "c = 0.4\n",
    "k = 4.0\n",
    "def oscilator(t, y, f):\n",
    "    f_val = f(t)\n",
    "    return np.array([y[1], -c*y[1]-k*y[0]+f_val])\n",
    "t_final = 200.0\n",
    "n_eval = int(1000)\n",
    "t_span = np.array([0.0, t_final])\n",
    "t_eval = np.linspace(0, t_final, num=n_eval)\n",
    "y0 = np.array([1.0, 0.0])\n",
    "#\n",
    "f_ext = np.vstack(( np.zeros((200,1)), np.ones((400,1))*1.5, np.ones((400,1))*4.0 ) )\n",
    "f_ext += np.random.normal(loc = 0.0, scale = 0.02, size=np.shape(f_ext))\n",
    "f_interp = interp1d(t_eval, f_ext, kind='linear', axis=0)"
   ]
  },
  {
   "cell_type": "code",
   "execution_count": null,
   "id": "1fc705e0",
   "metadata": {},
   "outputs": [],
   "source": [
    "func_1 = lambda t,y: oscilator(t,y,f_interp)\n",
    "sol = solve_ivp(func_1, t_span, y0, t_eval=t_eval)"
   ]
  },
  {
   "cell_type": "code",
   "execution_count": null,
   "id": "2028996c",
   "metadata": {},
   "outputs": [],
   "source": [
    "plt.plot(sol.t, sol.y[0,:])"
   ]
  },
  {
   "cell_type": "code",
   "execution_count": null,
   "id": "bef95041",
   "metadata": {},
   "outputs": [],
   "source": [
    "# transform to tensorflow\n",
    "t_target = tf.constant(sol.t)\n",
    "y_target = tf.constant(np.transpose(sol.y) )\n",
    "f_ext_tf = tf.constant(f_ext)"
   ]
  },
  {
   "cell_type": "code",
   "execution_count": null,
   "id": "f3840eac",
   "metadata": {},
   "outputs": [],
   "source": [
    "# interpolation in tf\n",
    "f_ext_interp_np = interp1d(t_eval, f_ext, kind='linear', axis=0)\n",
    "f_ext_interp = lambda t: tf.expand_dims(tf.constant(f_ext_interp_np(t)), axis=0)"
   ]
  },
  {
   "cell_type": "code",
   "execution_count": null,
   "id": "c6a306aa",
   "metadata": {},
   "outputs": [],
   "source": [
    "# only displacements\n",
    "y_target = tf.expand_dims(tf.constant(np.transpose(sol.y[0,:])), axis=1)"
   ]
  },
  {
   "cell_type": "code",
   "execution_count": null,
   "id": "91d48bfe",
   "metadata": {},
   "outputs": [],
   "source": []
  },
  {
   "cell_type": "code",
   "execution_count": null,
   "id": "b61be2e0",
   "metadata": {},
   "outputs": [],
   "source": [
    "# shifted"
   ]
  },
  {
   "cell_type": "code",
   "execution_count": null,
   "id": "28f91b26",
   "metadata": {
    "scrolled": true
   },
   "outputs": [],
   "source": [
    "y_targ_2 = y_target[1:n_eval,:]\n",
    "y_shift = y_target[0:n_eval-1,:] \n",
    "x = tf.concat([y_shift, f_ext_tf[0:n_eval-1,:]], axis=1)"
   ]
  },
  {
   "cell_type": "code",
   "execution_count": null,
   "id": "43724a90",
   "metadata": {},
   "outputs": [],
   "source": [
    "model.compile(optimizer=tf.keras.optimizers.Adam(learning_rate=1e-3),\n",
    "              loss=tf.keras.losses.MeanSquaredError())"
   ]
  },
  {
   "cell_type": "code",
   "execution_count": null,
   "id": "553f3f60",
   "metadata": {},
   "outputs": [],
   "source": [
    "model.fit(x = x, y = y_targ_2, batch_size = 50, epochs = 200)"
   ]
  },
  {
   "cell_type": "code",
   "execution_count": null,
   "id": "fc281727",
   "metadata": {},
   "outputs": [],
   "source": [
    "y_pred = model.predict(x)"
   ]
  },
  {
   "cell_type": "code",
   "execution_count": null,
   "id": "8d0008c0",
   "metadata": {},
   "outputs": [],
   "source": [
    "fig = plt.figure()\n",
    "ax = plt.gca()\n",
    "ax.plot(y_pred)\n",
    "ax.plot(y_targ_2.numpy())"
   ]
  },
  {
   "cell_type": "code",
   "execution_count": null,
   "id": "82c7b567",
   "metadata": {},
   "outputs": [],
   "source": [
    "#"
   ]
  },
  {
   "cell_type": "code",
   "execution_count": null,
   "id": "f1552a92",
   "metadata": {},
   "outputs": [],
   "source": [
    "y_pred = [tf.expand_dims(y_shift[0,:], axis=0)]\n",
    "for i in range(len(y_shift)):\n",
    "    y_pred.append(model.predict(y_pred[i]))"
   ]
  },
  {
   "cell_type": "code",
   "execution_count": null,
   "id": "700674f3",
   "metadata": {},
   "outputs": [],
   "source": []
  },
  {
   "cell_type": "code",
   "execution_count": null,
   "id": "da3bce86",
   "metadata": {},
   "outputs": [],
   "source": [
    "# Neural ODE"
   ]
  },
  {
   "cell_type": "code",
   "execution_count": null,
   "id": "a7b0ac79",
   "metadata": {},
   "outputs": [],
   "source": [
    "import sys\n",
    "sys.path.append('..')\n",
    "import neural_ode.NeuralODE\n",
    "import neural_ode.ODESolvers"
   ]
  },
  {
   "cell_type": "code",
   "execution_count": null,
   "id": "d06d0ad3",
   "metadata": {},
   "outputs": [],
   "source": [
    "class SimpleModel(tf.keras.Model):\n",
    "    def __init__(self, dyn_dim = 1, external_dim=1):\n",
    "        super().__init__()\n",
    "        w_init = tf.random_normal_initializer(mean=-1.0, stddev=0.05)\n",
    "        self.w = tf.Variable(\n",
    "            initial_value = w_init(shape=(dyn_dim*2, dyn_dim), dtype=\"float64\"),\n",
    "            trainable=True, name='W' )\n",
    "        self.dyn_dim = dyn_dim\n",
    "        w_ext = tf.Variable(\n",
    "            initial_value = w_init(shape=(external_dim, dyn_dim), dtype=\"float64\"),\n",
    "            trainable=True, name='W_ext' )\n",
    "        self.w_ext = w_ext\n",
    "\n",
    "    def call(self, inputs):\n",
    "        y_dyn = inputs[:,:self.dyn_dim*2]\n",
    "        x_ext = inputs[:,self.dyn_dim*2:]\n",
    "        vels = inputs[:,self.dyn_dim:self.dyn_dim*2]\n",
    "        accs = tf.matmul(y_dyn, self.w) + tf.matmul(x_ext, self.w_ext)\n",
    "        return tf.concat([vels, accs], axis=1)\n",
    "\n",
    "\n",
    "model_2 = SimpleModel()"
   ]
  },
  {
   "cell_type": "code",
   "execution_count": null,
   "id": "9b706562",
   "metadata": {},
   "outputs": [],
   "source": [
    "model_2.variables"
   ]
  },
  {
   "cell_type": "code",
   "execution_count": null,
   "id": "ce6700d8",
   "metadata": {},
   "outputs": [],
   "source": [
    "n_ode = neural_ode.NeuralODE.NeuralODE(model_2, 2, n_external=1)"
   ]
  },
  {
   "cell_type": "code",
   "execution_count": null,
   "id": "f86567ea",
   "metadata": {
    "scrolled": true
   },
   "outputs": [],
   "source": [
    "n_epoch = 20\n",
    "n_ode.fit(t_target, y_target, n_epoch=n_epoch, n_batch=5, \n",
    "          adjoint_method=False, missing_derivative=[0], adjust_initial=False, x_external=f_ext_tf)"
   ]
  },
  {
   "cell_type": "code",
   "execution_count": null,
   "id": "fb73e665",
   "metadata": {},
   "outputs": [],
   "source": [
    "n_ode.model.variables"
   ]
  },
  {
   "cell_type": "code",
   "execution_count": null,
   "id": "1a82ebe6",
   "metadata": {},
   "outputs": [],
   "source": [
    "n_ode.model.variables[0].assign(np.array([[-k],[-c]]))\n",
    "n_ode.model.variables[1].assign(np.array([[1.0]]))"
   ]
  },
  {
   "cell_type": "code",
   "execution_count": null,
   "id": "0138e16d",
   "metadata": {},
   "outputs": [],
   "source": [
    "y0 = tf.concat([y_target[0,0], (y_target[1,0]-y_target[0,0])/(t_target[1]-t_target[0])], axis=0)\n",
    "sol_model = n_ode.forward_solve(t_target, y0, x_external=f_ext_interp)"
   ]
  },
  {
   "cell_type": "code",
   "execution_count": null,
   "id": "f0589542",
   "metadata": {},
   "outputs": [],
   "source": [
    "fig, ax = plt.subplots()\n",
    "plt.plot(t_target.numpy(), y_target.numpy())\n",
    "ax.plot(sol_model['t'].numpy(), sol_model['y'][:,0].numpy() )"
   ]
  },
  {
   "cell_type": "code",
   "execution_count": null,
   "id": "3844a4e2",
   "metadata": {},
   "outputs": [],
   "source": []
  },
  {
   "cell_type": "markdown",
   "id": "847c6eab",
   "metadata": {},
   "source": [
    "# Test"
   ]
  },
  {
   "cell_type": "code",
   "execution_count": null,
   "id": "06f63e59",
   "metadata": {},
   "outputs": [],
   "source": [
    "#\n",
    "N_n = int(2)\n",
    "c1 = 0.2\n",
    "k1 = 4.0\n",
    "def oscilator(t, y, f):\n",
    "    f_val = f(t)\n",
    "    return np.array([y[1], -c1*y[1]-k1*y[0]+f_val])\n",
    "t_final = 200.0\n",
    "n_eval = int(1000)\n",
    "t_span = np.array([0.0, t_final])\n",
    "t_eval = np.linspace(0, t_final, num=n_eval)\n",
    "y0 = np.array([1.0, 0.0])"
   ]
  },
  {
   "cell_type": "code",
   "execution_count": null,
   "id": "03a7cb6d",
   "metadata": {},
   "outputs": [],
   "source": [
    "func_1 = lambda t,y: oscilator(t,y,f_interp)\n",
    "sol_test = solve_ivp(func_1, t_span, y0, t_eval=t_eval)"
   ]
  },
  {
   "cell_type": "code",
   "execution_count": null,
   "id": "2f68511d",
   "metadata": {},
   "outputs": [],
   "source": [
    "plt.plot(sol_test.t, sol_test.y[0,:])"
   ]
  },
  {
   "cell_type": "code",
   "execution_count": null,
   "id": "04865e22",
   "metadata": {},
   "outputs": [],
   "source": [
    "# transform to tensorflow\n",
    "t_test = tf.constant(sol_test.t)\n",
    "y_test = tf.expand_dims(tf.constant(np.transpose(sol_test.y[0,:])), axis=1)"
   ]
  },
  {
   "cell_type": "code",
   "execution_count": null,
   "id": "10b2cffa",
   "metadata": {},
   "outputs": [],
   "source": [
    "# usual model"
   ]
  },
  {
   "cell_type": "code",
   "execution_count": null,
   "id": "a9e0042f",
   "metadata": {},
   "outputs": [],
   "source": [
    "# shift\n",
    "y_test_out = y_test[1:n_eval,:]\n",
    "y_test_inp = y_test[0:n_eval-1,:] \n",
    "x_test = tf.concat([y_test_inp, f_ext_tf[0:n_eval-1,:]], axis=1)"
   ]
  },
  {
   "cell_type": "code",
   "execution_count": null,
   "id": "f1781fa7",
   "metadata": {},
   "outputs": [],
   "source": [
    "y_pred_test = model.predict(x_test)"
   ]
  },
  {
   "cell_type": "code",
   "execution_count": null,
   "id": "e4f0d2ef",
   "metadata": {},
   "outputs": [],
   "source": [
    "# neural ODE model"
   ]
  },
  {
   "cell_type": "code",
   "execution_count": null,
   "id": "4185b82e",
   "metadata": {},
   "outputs": [],
   "source": [
    "y0 = tf.concat([y_test[0,0], (y_test[1,0]-y_test[0,0])/(t_target[1]-t_target[0])], axis=0)\n",
    "sol_model_test = n_ode.forward_solve(t_target, y0, x_external=f_ext_interp)"
   ]
  },
  {
   "cell_type": "code",
   "execution_count": null,
   "id": "ca32b7f7",
   "metadata": {},
   "outputs": [],
   "source": [
    "y_pred_test_2 = sol_model_test['y'][::n_ode.n_ref,0].numpy()"
   ]
  },
  {
   "cell_type": "code",
   "execution_count": null,
   "id": "0af9d9cb",
   "metadata": {},
   "outputs": [],
   "source": [
    "y_test_np = np.reshape(y_test.numpy(), (len(y_test.numpy())) )"
   ]
  },
  {
   "cell_type": "code",
   "execution_count": null,
   "id": "d5d8cb4f",
   "metadata": {},
   "outputs": [],
   "source": []
  },
  {
   "cell_type": "code",
   "execution_count": null,
   "id": "87c69e75",
   "metadata": {},
   "outputs": [],
   "source": [
    "def resudual_func(y_targ, y_pr):\n",
    "    dict_res = {}\n",
    "    dict_res['residual'] = np.abs(y_targ - y_pr)\n",
    "    dict_res['residual_rel'] =  dict_res['residual']/(np.abs(y_targ)+np.abs(y_pr)+ 1e-5 )*2\n",
    "    return dict_res"
   ]
  },
  {
   "cell_type": "code",
   "execution_count": null,
   "id": "73ce33d2",
   "metadata": {},
   "outputs": [],
   "source": [
    "res1 = resudual_func(y_test_out, y_pred_test)"
   ]
  },
  {
   "cell_type": "code",
   "execution_count": null,
   "id": "db94dbd3",
   "metadata": {},
   "outputs": [],
   "source": [
    "res2 = resudual_func(y_test_np, y_pred_test_2)"
   ]
  },
  {
   "cell_type": "code",
   "execution_count": null,
   "id": "72c3142c",
   "metadata": {},
   "outputs": [],
   "source": []
  },
  {
   "cell_type": "code",
   "execution_count": null,
   "id": "d2e3828f",
   "metadata": {},
   "outputs": [],
   "source": [
    "fig, ax = plt.subplots()\n",
    "ax.plot(y_test_out.numpy())\n",
    "ax.plot(y_pred_test)\n",
    "ax.plot(res1['residual'])\n",
    "ax.hlines(0.2, 0, 1000, color='r')"
   ]
  },
  {
   "cell_type": "code",
   "execution_count": null,
   "id": "955247da",
   "metadata": {},
   "outputs": [],
   "source": [
    "fig, ax = plt.subplots()\n",
    "ax.plot(y_test_np)\n",
    "ax.plot(y_pred_test_2)\n",
    "ax.plot(res2['residual'])\n",
    "ax.hlines(0.2, 0, 1000, color='r')"
   ]
  },
  {
   "cell_type": "code",
   "execution_count": null,
   "id": "459e4191",
   "metadata": {},
   "outputs": [],
   "source": []
  }
 ],
 "metadata": {
  "kernelspec": {
   "display_name": "Python 3",
   "language": "python",
   "name": "python3"
  },
  "language_info": {
   "codemirror_mode": {
    "name": "ipython",
    "version": 3
   },
   "file_extension": ".py",
   "mimetype": "text/x-python",
   "name": "python",
   "nbconvert_exporter": "python",
   "pygments_lexer": "ipython3",
   "version": "3.8.8"
  }
 },
 "nbformat": 4,
 "nbformat_minor": 5
}
