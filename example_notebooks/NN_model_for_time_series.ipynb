{
 "cells": [
  {
   "cell_type": "code",
   "execution_count": 1,
   "id": "a973ac76",
   "metadata": {},
   "outputs": [],
   "source": [
    "import matplotlib.pyplot as plt\n",
    "import numpy as np\n",
    "import pandas as pd\n",
    "from scipy.integrate import solve_ivp\n",
    "from scipy.interpolate import interp1d\n",
    "\n",
    "from sklearn.model_selection import KFold\n",
    "from random import shuffle\n",
    "\n",
    "import time\n",
    "import tensorflow as tf\n",
    "from tensorflow import keras\n",
    "from tensorflow.keras import layers\n",
    "%matplotlib qt"
   ]
  },
  {
   "cell_type": "code",
   "execution_count": 2,
   "id": "18e4c95a",
   "metadata": {},
   "outputs": [],
   "source": [
    "#"
   ]
  },
  {
   "cell_type": "code",
   "execution_count": 3,
   "id": "5fb82354",
   "metadata": {},
   "outputs": [],
   "source": [
    "tf.keras.backend.set_floatx('float64')"
   ]
  },
  {
   "cell_type": "code",
   "execution_count": 162,
   "id": "c9906a7d",
   "metadata": {},
   "outputs": [],
   "source": [
    "model = keras.Sequential(\n",
    "    [\n",
    "        keras.Input(shape=(2,)),\n",
    "        layers.Dense(6, name=\"layer1\", activation='elu'),\n",
    "        layers.Dense(1, name=\"layer2\"),\n",
    "    ]\n",
    ")\n"
   ]
  },
  {
   "cell_type": "code",
   "execution_count": null,
   "id": "d2adf3a6",
   "metadata": {},
   "outputs": [],
   "source": []
  },
  {
   "cell_type": "code",
   "execution_count": 5,
   "id": "2be0077a",
   "metadata": {},
   "outputs": [],
   "source": [
    "# Generate solution"
   ]
  },
  {
   "cell_type": "code",
   "execution_count": 6,
   "id": "db7c2e6b",
   "metadata": {},
   "outputs": [],
   "source": [
    "#\n",
    "N_n = int(2)\n",
    "c = 0.4\n",
    "k = 4.0\n",
    "def oscilator(t, y, f):\n",
    "    f_val = f(t)\n",
    "    return np.array([y[1], -c*y[1]-k*y[0]+f_val])\n",
    "t_final = 200.0\n",
    "n_eval = int(1000)\n",
    "t_span = np.array([0.0, t_final])\n",
    "t_eval = np.linspace(0, t_final, num=n_eval)\n",
    "y0 = np.array([1.0, 0.0])\n",
    "#\n",
    "f_ext = np.vstack(( np.zeros((200,1)), np.ones((400,1))*0.5, np.ones((400,1)) ) )\n",
    "f_ext += np.random.normal(loc = 0.0, scale = 0.02, size=np.shape(f_ext))\n",
    "f_interp = interp1d(t_eval, f_ext, kind='linear', axis=0)"
   ]
  },
  {
   "cell_type": "code",
   "execution_count": 7,
   "id": "1fc705e0",
   "metadata": {},
   "outputs": [
    {
     "name": "stderr",
     "output_type": "stream",
     "text": [
      "<ipython-input-6-c26570abacc8>:7: VisibleDeprecationWarning: Creating an ndarray from ragged nested sequences (which is a list-or-tuple of lists-or-tuples-or ndarrays with different lengths or shapes) is deprecated. If you meant to do this, you must specify 'dtype=object' when creating the ndarray.\n",
      "  return np.array([y[1], -c*y[1]-k*y[0]+f_val])\n"
     ]
    }
   ],
   "source": [
    "func_1 = lambda t,y: oscilator(t,y,f_interp)\n",
    "sol = solve_ivp(func_1, t_span, y0, t_eval=t_eval)"
   ]
  },
  {
   "cell_type": "code",
   "execution_count": 8,
   "id": "2028996c",
   "metadata": {},
   "outputs": [
    {
     "data": {
      "text/plain": [
       "[<matplotlib.lines.Line2D at 0x1cf55c1b250>]"
      ]
     },
     "execution_count": 8,
     "metadata": {},
     "output_type": "execute_result"
    }
   ],
   "source": [
    "plt.plot(sol.t, sol.y[0,:])"
   ]
  },
  {
   "cell_type": "code",
   "execution_count": 9,
   "id": "bef95041",
   "metadata": {},
   "outputs": [],
   "source": [
    "# transform to tensorflow\n",
    "t_target = tf.constant(sol.t)\n",
    "y_target = tf.constant(np.transpose(sol.y) )\n",
    "f_ext_tf = tf.constant(f_ext)"
   ]
  },
  {
   "cell_type": "code",
   "execution_count": 54,
   "id": "f3840eac",
   "metadata": {},
   "outputs": [],
   "source": [
    "# interpolation in tf\n",
    "f_ext_interp_np = interp1d(t_eval, f_ext, kind='linear', axis=0)\n",
    "f_ext_interp = lambda t: tf.expand_dims(tf.constant(f_ext_interp_np(t)), axis=0)"
   ]
  },
  {
   "cell_type": "code",
   "execution_count": 10,
   "id": "c6a306aa",
   "metadata": {},
   "outputs": [],
   "source": [
    "# only displacements\n",
    "y_target = tf.expand_dims(tf.constant(np.transpose(sol.y[0,:])), axis=1)"
   ]
  },
  {
   "cell_type": "code",
   "execution_count": null,
   "id": "91d48bfe",
   "metadata": {},
   "outputs": [],
   "source": []
  },
  {
   "cell_type": "code",
   "execution_count": null,
   "id": "b61be2e0",
   "metadata": {},
   "outputs": [],
   "source": [
    "# shifted"
   ]
  },
  {
   "cell_type": "code",
   "execution_count": 11,
   "id": "28f91b26",
   "metadata": {
    "scrolled": true
   },
   "outputs": [],
   "source": [
    "y_targ_2 = y_target[1:n_eval,:]\n",
    "y_shift = y_target[0:n_eval-1,:] \n",
    "x = tf.concat([y_shift, f_ext_tf[0:n_eval-1,:]], axis=1)"
   ]
  },
  {
   "cell_type": "code",
   "execution_count": 164,
   "id": "43724a90",
   "metadata": {},
   "outputs": [],
   "source": [
    "model.compile(optimizer=tf.keras.optimizers.Adam(learning_rate=1e-3),\n",
    "              loss=tf.keras.losses.MeanSquaredError())"
   ]
  },
  {
   "cell_type": "code",
   "execution_count": 165,
   "id": "553f3f60",
   "metadata": {},
   "outputs": [
    {
     "name": "stdout",
     "output_type": "stream",
     "text": [
      "Epoch 1/200\n",
      "20/20 [==============================] - 0s 0s/step - loss: 0.1401\n",
      "Epoch 2/200\n",
      "20/20 [==============================] - 0s 0s/step - loss: 0.0643\n",
      "Epoch 3/200\n",
      "20/20 [==============================] - 0s 781us/step - loss: 0.0345\n",
      "Epoch 4/200\n",
      "20/20 [==============================] - 0s 781us/step - loss: 0.0266\n",
      "Epoch 5/200\n",
      "20/20 [==============================] - 0s 781us/step - loss: 0.0236\n",
      "Epoch 6/200\n",
      "20/20 [==============================] - 0s 781us/step - loss: 0.0211\n",
      "Epoch 7/200\n",
      "20/20 [==============================] - 0s 0s/step - loss: 0.0188\n",
      "Epoch 8/200\n",
      "20/20 [==============================] - 0s 781us/step - loss: 0.0168\n",
      "Epoch 9/200\n",
      "20/20 [==============================] - 0s 781us/step - loss: 0.0150\n",
      "Epoch 10/200\n",
      "20/20 [==============================] - 0s 781us/step - loss: 0.0135\n",
      "Epoch 11/200\n",
      "20/20 [==============================] - 0s 781us/step - loss: 0.0121\n",
      "Epoch 12/200\n",
      "20/20 [==============================] - 0s 781us/step - loss: 0.0109\n",
      "Epoch 13/200\n",
      "20/20 [==============================] - 0s 781us/step - loss: 0.0099\n",
      "Epoch 14/200\n",
      "20/20 [==============================] - 0s 325us/step - loss: 0.0091\n",
      "Epoch 15/200\n",
      "20/20 [==============================] - 0s 781us/step - loss: 0.0083\n",
      "Epoch 16/200\n",
      "20/20 [==============================] - 0s 781us/step - loss: 0.0076\n",
      "Epoch 17/200\n",
      "20/20 [==============================] - 0s 0s/step - loss: 0.0071\n",
      "Epoch 18/200\n",
      "20/20 [==============================] - 0s 0s/step - loss: 0.0065\n",
      "Epoch 19/200\n",
      "20/20 [==============================] - 0s 781us/step - loss: 0.0060\n",
      "Epoch 20/200\n",
      "20/20 [==============================] - 0s 781us/step - loss: 0.0057\n",
      "Epoch 21/200\n",
      "20/20 [==============================] - 0s 781us/step - loss: 0.0052\n",
      "Epoch 22/200\n",
      "20/20 [==============================] - 0s 325us/step - loss: 0.0049\n",
      "Epoch 23/200\n",
      "20/20 [==============================] - 0s 781us/step - loss: 0.0046\n",
      "Epoch 24/200\n",
      "20/20 [==============================] - 0s 781us/step - loss: 0.0043\n",
      "Epoch 25/200\n",
      "20/20 [==============================] - 0s 0s/step - loss: 0.0040 \n",
      "Epoch 26/200\n",
      "20/20 [==============================] - 0s 0s/step - loss: 0.0038\n",
      "Epoch 27/200\n",
      "20/20 [==============================] - 0s 781us/step - loss: 0.0036\n",
      "Epoch 28/200\n",
      "20/20 [==============================] - 0s 781us/step - loss: 0.0033\n",
      "Epoch 29/200\n",
      "20/20 [==============================] - 0s 781us/step - loss: 0.0031\n",
      "Epoch 30/200\n",
      "20/20 [==============================] - 0s 325us/step - loss: 0.0030\n",
      "Epoch 31/200\n",
      "20/20 [==============================] - 0s 781us/step - loss: 0.0028\n",
      "Epoch 32/200\n",
      "20/20 [==============================] - 0s 781us/step - loss: 0.0026\n",
      "Epoch 33/200\n",
      "20/20 [==============================] - 0s 0s/step - loss: 0.0025\n",
      "Epoch 34/200\n",
      "20/20 [==============================] - 0s 781us/step - loss: 0.0024\n",
      "Epoch 35/200\n",
      "20/20 [==============================] - 0s 781us/step - loss: 0.0022\n",
      "Epoch 36/200\n",
      "20/20 [==============================] - 0s 781us/step - loss: 0.0021\n",
      "Epoch 37/200\n",
      "20/20 [==============================] - 0s 0s/step - loss: 0.0020\n",
      "Epoch 38/200\n",
      "20/20 [==============================] - 0s 325us/step - loss: 0.0019\n",
      "Epoch 39/200\n",
      "20/20 [==============================] - 0s 781us/step - loss: 0.0018\n",
      "Epoch 40/200\n",
      "20/20 [==============================] - 0s 0s/step - loss: 0.0018\n",
      "Epoch 41/200\n",
      "20/20 [==============================] - 0s 0s/step - loss: 0.0017\n",
      "Epoch 42/200\n",
      "20/20 [==============================] - 0s 781us/step - loss: 0.0016\n",
      "Epoch 43/200\n",
      "20/20 [==============================] - 0s 781us/step - loss: 0.0016\n",
      "Epoch 44/200\n",
      "20/20 [==============================] - 0s 781us/step - loss: 0.0015\n",
      "Epoch 45/200\n",
      "20/20 [==============================] - 0s 0s/step - loss: 0.0014 \n",
      "Epoch 46/200\n",
      "20/20 [==============================] - 0s 1ms/step - loss: 0.0014\n",
      "Epoch 47/200\n",
      "20/20 [==============================] - 0s 0s/step - loss: 0.0013\n",
      "Epoch 48/200\n",
      "20/20 [==============================] - 0s 0s/step - loss: 0.0013 \n",
      "Epoch 49/200\n",
      "20/20 [==============================] - 0s 781us/step - loss: 0.0013\n",
      "Epoch 50/200\n",
      "20/20 [==============================] - 0s 781us/step - loss: 0.0012\n",
      "Epoch 51/200\n",
      "20/20 [==============================] - 0s 781us/step - loss: 0.0012\n",
      "Epoch 52/200\n",
      "20/20 [==============================] - 0s 0s/step - loss: 0.0012 \n",
      "Epoch 53/200\n",
      "20/20 [==============================] - 0s 0s/step - loss: 0.0011 \n",
      "Epoch 54/200\n",
      "20/20 [==============================] - 0s 1ms/step - loss: 0.0011\n",
      "Epoch 55/200\n",
      "20/20 [==============================] - 0s 0s/step - loss: 0.0011 \n",
      "Epoch 56/200\n",
      "20/20 [==============================] - 0s 0s/step - loss: 0.0011 \n",
      "Epoch 57/200\n",
      "20/20 [==============================] - 0s 0s/step - loss: 0.0011 \n",
      "Epoch 58/200\n",
      "20/20 [==============================] - 0s 0s/step - loss: 0.0010 \n",
      "Epoch 59/200\n",
      "20/20 [==============================] - 0s 0s/step - loss: 0.0010 \n",
      "Epoch 60/200\n",
      "20/20 [==============================] - 0s 0s/step - loss: 0.0010\n",
      "Epoch 61/200\n",
      "20/20 [==============================] - 0s 325us/step - loss: 0.0010\n",
      "Epoch 62/200\n",
      "20/20 [==============================] - 0s 781us/step - loss: 9.9237e-04\n",
      "Epoch 63/200\n",
      "20/20 [==============================] - 0s 781us/step - loss: 9.8185e-04\n",
      "Epoch 64/200\n",
      "20/20 [==============================] - 0s 0s/step - loss: 9.7203e-04\n",
      "Epoch 65/200\n",
      "20/20 [==============================] - 0s 781us/step - loss: 9.6441e-04\n",
      "Epoch 66/200\n",
      "20/20 [==============================] - 0s 781us/step - loss: 9.5647e-04\n",
      "Epoch 67/200\n",
      "20/20 [==============================] - 0s 1ms/step - loss: 9.5269e-04\n",
      "Epoch 68/200\n",
      "20/20 [==============================] - 0s 781us/step - loss: 9.4559e-04\n",
      "Epoch 69/200\n",
      "20/20 [==============================] - 0s 781us/step - loss: 9.3981e-04\n",
      "Epoch 70/200\n",
      "20/20 [==============================] - 0s 781us/step - loss: 9.3459e-04\n",
      "Epoch 71/200\n",
      "20/20 [==============================] - 0s 781us/step - loss: 9.3048e-04\n",
      "Epoch 72/200\n",
      "20/20 [==============================] - 0s 781us/step - loss: 9.2781e-04\n",
      "Epoch 73/200\n",
      "20/20 [==============================] - 0s 781us/step - loss: 9.2689e-04\n",
      "Epoch 74/200\n",
      "20/20 [==============================] - 0s 325us/step - loss: 9.2185e-04\n",
      "Epoch 75/200\n",
      "20/20 [==============================] - 0s 781us/step - loss: 9.1804e-04\n",
      "Epoch 76/200\n",
      "20/20 [==============================] - 0s 781us/step - loss: 9.1477e-04\n",
      "Epoch 77/200\n",
      "20/20 [==============================] - 0s 781us/step - loss: 9.1340e-04\n",
      "Epoch 78/200\n",
      "20/20 [==============================] - 0s 781us/step - loss: 9.1234e-04\n",
      "Epoch 79/200\n",
      "20/20 [==============================] - 0s 781us/step - loss: 9.0985e-04\n",
      "Epoch 80/200\n",
      "20/20 [==============================] - 0s 781us/step - loss: 9.0874e-04\n",
      "Epoch 81/200\n",
      "20/20 [==============================] - 0s 0s/step - loss: 9.0826e-04\n",
      "Epoch 82/200\n",
      "20/20 [==============================] - 0s 0s/step - loss: 9.0688e-04\n",
      "Epoch 83/200\n",
      "20/20 [==============================] - 0s 0s/step - loss: 9.0499e-04\n",
      "Epoch 84/200\n",
      "20/20 [==============================] - 0s 0s/step - loss: 9.0477e-04\n",
      "Epoch 85/200\n",
      "20/20 [==============================] - 0s 0s/step - loss: 9.0383e-04\n",
      "Epoch 86/200\n",
      "20/20 [==============================] - 0s 781us/step - loss: 9.0242e-04\n",
      "Epoch 87/200\n",
      "20/20 [==============================] - 0s 1ms/step - loss: 9.0303e-04\n",
      "Epoch 88/200\n",
      "20/20 [==============================] - 0s 781us/step - loss: 9.0122e-04\n",
      "Epoch 89/200\n",
      "20/20 [==============================] - 0s 781us/step - loss: 9.0011e-04\n",
      "Epoch 90/200\n",
      "20/20 [==============================] - 0s 781us/step - loss: 9.0039e-04\n",
      "Epoch 91/200\n",
      "20/20 [==============================] - 0s 781us/step - loss: 8.9940e-04\n",
      "Epoch 92/200\n",
      "20/20 [==============================] - 0s 781us/step - loss: 8.9926e-04\n",
      "Epoch 93/200\n",
      "20/20 [==============================] - 0s 781us/step - loss: 8.9837e-04\n",
      "Epoch 94/200\n",
      "20/20 [==============================] - 0s 325us/step - loss: 8.9836e-04\n",
      "Epoch 95/200\n",
      "20/20 [==============================] - 0s 781us/step - loss: 8.9974e-04\n",
      "Epoch 96/200\n",
      "20/20 [==============================] - 0s 781us/step - loss: 8.9742e-04\n",
      "Epoch 97/200\n",
      "20/20 [==============================] - 0s 0s/step - loss: 8.9685e-04\n",
      "Epoch 98/200\n",
      "20/20 [==============================] - 0s 781us/step - loss: 8.9742e-04\n",
      "Epoch 99/200\n"
     ]
    },
    {
     "name": "stdout",
     "output_type": "stream",
     "text": [
      "20/20 [==============================] - 0s 781us/step - loss: 8.9794e-04\n",
      "Epoch 100/200\n",
      "20/20 [==============================] - 0s 781us/step - loss: 8.9754e-04\n",
      "Epoch 101/200\n",
      "20/20 [==============================] - 0s 0s/step - loss: 8.9774e-04\n",
      "Epoch 102/200\n",
      "20/20 [==============================] - 0s 1ms/step - loss: 8.9676e-04\n",
      "Epoch 103/200\n",
      "20/20 [==============================] - 0s 0s/step - loss: 8.9707e-04\n",
      "Epoch 104/200\n",
      "20/20 [==============================] - 0s 781us/step - loss: 8.9424e-04\n",
      "Epoch 105/200\n",
      "20/20 [==============================] - 0s 781us/step - loss: 8.9609e-04\n",
      "Epoch 106/200\n",
      "20/20 [==============================] - 0s 781us/step - loss: 8.9851e-04\n",
      "Epoch 107/200\n",
      "20/20 [==============================] - 0s 781us/step - loss: 8.9734e-04\n",
      "Epoch 108/200\n",
      "20/20 [==============================] - 0s 0s/step - loss: 8.9537e-04\n",
      "Epoch 109/200\n",
      "20/20 [==============================] - 0s 0s/step - loss: 8.9436e-04\n",
      "Epoch 110/200\n",
      "20/20 [==============================] - 0s 1ms/step - loss: 8.9486e-04\n",
      "Epoch 111/200\n",
      "20/20 [==============================] - 0s 781us/step - loss: 8.9493e-04\n",
      "Epoch 112/200\n",
      "20/20 [==============================] - 0s 0s/step - loss: 8.9524e-04\n",
      "Epoch 113/200\n",
      "20/20 [==============================] - 0s 0s/step - loss: 8.9674e-04\n",
      "Epoch 114/200\n",
      "20/20 [==============================] - 0s 781us/step - loss: 8.9566e-04\n",
      "Epoch 115/200\n",
      "20/20 [==============================] - 0s 781us/step - loss: 8.9416e-04\n",
      "Epoch 116/200\n",
      "20/20 [==============================] - 0s 781us/step - loss: 8.9317e-04\n",
      "Epoch 117/200\n",
      "20/20 [==============================] - 0s 781us/step - loss: 8.9474e-04\n",
      "Epoch 118/200\n",
      "20/20 [==============================] - 0s 325us/step - loss: 8.9439e-04\n",
      "Epoch 119/200\n",
      "20/20 [==============================] - 0s 781us/step - loss: 8.9314e-04\n",
      "Epoch 120/200\n",
      "20/20 [==============================] - 0s 0s/step - loss: 8.9227e-04\n",
      "Epoch 121/200\n",
      "20/20 [==============================] - 0s 0s/step - loss: 8.9259e-04\n",
      "Epoch 122/200\n",
      "20/20 [==============================] - 0s 781us/step - loss: 8.9280e-04\n",
      "Epoch 123/200\n",
      "20/20 [==============================] - 0s 781us/step - loss: 8.9561e-04\n",
      "Epoch 124/200\n",
      "20/20 [==============================] - 0s 781us/step - loss: 8.9245e-04\n",
      "Epoch 125/200\n",
      "20/20 [==============================] - 0s 0s/step - loss: 8.9443e-04\n",
      "Epoch 126/200\n",
      "20/20 [==============================] - 0s 1ms/step - loss: 8.9267e-04\n",
      "Epoch 127/200\n",
      "20/20 [==============================] - 0s 0s/step - loss: 8.9432e-04\n",
      "Epoch 128/200\n",
      "20/20 [==============================] - 0s 0s/step - loss: 8.9211e-04\n",
      "Epoch 129/200\n",
      "20/20 [==============================] - 0s 781us/step - loss: 8.9199e-04\n",
      "Epoch 130/200\n",
      "20/20 [==============================] - 0s 781us/step - loss: 8.9200e-04\n",
      "Epoch 131/200\n",
      "20/20 [==============================] - 0s 781us/step - loss: 8.9300e-04\n",
      "Epoch 132/200\n",
      "20/20 [==============================] - 0s 0s/step - loss: 8.9158e-04\n",
      "Epoch 133/200\n",
      "20/20 [==============================] - 0s 0s/step - loss: 8.9133e-04\n",
      "Epoch 134/200\n",
      "20/20 [==============================] - 0s 1ms/step - loss: 8.9190e-04\n",
      "Epoch 135/200\n",
      "20/20 [==============================] - 0s 0s/step - loss: 8.9387e-04\n",
      "Epoch 136/200\n",
      "20/20 [==============================] - 0s 0s/step - loss: 8.9125e-04\n",
      "Epoch 137/200\n",
      "20/20 [==============================] - 0s 781us/step - loss: 8.9421e-04\n",
      "Epoch 138/200\n",
      "20/20 [==============================] - 0s 781us/step - loss: 8.9400e-04\n",
      "Epoch 139/200\n",
      "20/20 [==============================] - 0s 0s/step - loss: 8.9062e-04\n",
      "Epoch 140/200\n",
      "20/20 [==============================] - 0s 781us/step - loss: 8.9186e-04\n",
      "Epoch 141/200\n",
      "20/20 [==============================] - 0s 781us/step - loss: 8.9081e-04\n",
      "Epoch 142/200\n",
      "20/20 [==============================] - 0s 781us/step - loss: 8.9092e-04\n",
      "Epoch 143/200\n",
      "20/20 [==============================] - 0s 325us/step - loss: 8.8987e-04\n",
      "Epoch 144/200\n",
      "20/20 [==============================] - 0s 781us/step - loss: 8.8904e-04\n",
      "Epoch 145/200\n",
      "20/20 [==============================] - 0s 0s/step - loss: 8.9333e-04\n",
      "Epoch 146/200\n",
      "20/20 [==============================] - 0s 0s/step - loss: 8.9238e-04\n",
      "Epoch 147/200\n",
      "20/20 [==============================] - 0s 781us/step - loss: 8.9138e-04\n",
      "Epoch 148/200\n",
      "20/20 [==============================] - 0s 781us/step - loss: 8.9133e-04\n",
      "Epoch 149/200\n",
      "20/20 [==============================] - 0s 781us/step - loss: 8.9116e-04\n",
      "Epoch 150/200\n",
      "20/20 [==============================] - 0s 781us/step - loss: 8.8905e-04\n",
      "Epoch 151/200\n",
      "20/20 [==============================] - 0s 0s/step - loss: 8.8924e-04\n",
      "Epoch 152/200\n",
      "20/20 [==============================] - 0s 781us/step - loss: 8.9166e-04\n",
      "Epoch 153/200\n",
      "20/20 [==============================] - 0s 781us/step - loss: 8.9271e-04\n",
      "Epoch 154/200\n",
      "20/20 [==============================] - 0s 781us/step - loss: 8.9193e-04\n",
      "Epoch 155/200\n",
      "20/20 [==============================] - 0s 781us/step - loss: 8.9085e-04\n",
      "Epoch 156/200\n",
      "20/20 [==============================] - 0s 781us/step - loss: 8.9130e-04\n",
      "Epoch 157/200\n",
      "20/20 [==============================] - 0s 1ms/step - loss: 8.9265e-04\n",
      "Epoch 158/200\n",
      "20/20 [==============================] - 0s 781us/step - loss: 8.8874e-04\n",
      "Epoch 159/200\n",
      "20/20 [==============================] - 0s 781us/step - loss: 8.9205e-04\n",
      "Epoch 160/200\n",
      "20/20 [==============================] - 0s 781us/step - loss: 8.8890e-04\n",
      "Epoch 161/200\n",
      "20/20 [==============================] - 0s 781us/step - loss: 8.8867e-04\n",
      "Epoch 162/200\n",
      "20/20 [==============================] - 0s 781us/step - loss: 8.9066e-04\n",
      "Epoch 163/200\n",
      "20/20 [==============================] - 0s 781us/step - loss: 8.8950e-04\n",
      "Epoch 164/200\n",
      "20/20 [==============================] - 0s 325us/step - loss: 8.8760e-04\n",
      "Epoch 165/200\n",
      "20/20 [==============================] - 0s 781us/step - loss: 8.8922e-04\n",
      "Epoch 166/200\n",
      "20/20 [==============================] - 0s 781us/step - loss: 8.8878e-04\n",
      "Epoch 167/200\n",
      "20/20 [==============================] - 0s 781us/step - loss: 8.9104e-04\n",
      "Epoch 168/200\n",
      "20/20 [==============================] - 0s 781us/step - loss: 8.9323e-04\n",
      "Epoch 169/200\n",
      "20/20 [==============================] - 0s 781us/step - loss: 8.8874e-04\n",
      "Epoch 170/200\n",
      "20/20 [==============================] - 0s 1ms/step - loss: 8.8776e-04\n",
      "Epoch 171/200\n",
      "20/20 [==============================] - 0s 781us/step - loss: 8.8965e-04\n",
      "Epoch 172/200\n",
      "20/20 [==============================] - 0s 781us/step - loss: 8.8790e-04\n",
      "Epoch 173/200\n",
      "20/20 [==============================] - 0s 781us/step - loss: 8.8653e-04\n",
      "Epoch 174/200\n",
      "20/20 [==============================] - 0s 0s/step - loss: 8.8997e-04\n",
      "Epoch 175/200\n",
      "20/20 [==============================] - 0s 781us/step - loss: 8.8870e-04\n",
      "Epoch 176/200\n",
      "20/20 [==============================] - 0s 781us/step - loss: 8.8741e-04\n",
      "Epoch 177/200\n",
      "20/20 [==============================] - 0s 1ms/step - loss: 8.9118e-04\n",
      "Epoch 178/200\n",
      "20/20 [==============================] - 0s 0s/step - loss: 8.8622e-04\n",
      "Epoch 179/200\n",
      "20/20 [==============================] - 0s 0s/step - loss: 8.9059e-04\n",
      "Epoch 180/200\n",
      "20/20 [==============================] - 0s 0s/step - loss: 8.8849e-04\n",
      "Epoch 181/200\n",
      "20/20 [==============================] - 0s 781us/step - loss: 8.8543e-04\n",
      "Epoch 182/200\n",
      "20/20 [==============================] - 0s 781us/step - loss: 8.8667e-04\n",
      "Epoch 183/200\n",
      "20/20 [==============================] - 0s 781us/step - loss: 8.8480e-04\n",
      "Epoch 184/200\n",
      "20/20 [==============================] - 0s 0s/step - loss: 8.8531e-04\n",
      "Epoch 185/200\n",
      "20/20 [==============================] - 0s 325us/step - loss: 8.9100e-04\n",
      "Epoch 186/200\n",
      "20/20 [==============================] - 0s 781us/step - loss: 8.8595e-04\n",
      "Epoch 187/200\n",
      "20/20 [==============================] - 0s 0s/step - loss: 8.8542e-04\n",
      "Epoch 188/200\n",
      "20/20 [==============================] - 0s 0s/step - loss: 8.8775e-04\n",
      "Epoch 189/200\n",
      "20/20 [==============================] - 0s 781us/step - loss: 8.9064e-04\n",
      "Epoch 190/200\n",
      "20/20 [==============================] - 0s 781us/step - loss: 8.8774e-04\n",
      "Epoch 191/200\n",
      "20/20 [==============================] - 0s 781us/step - loss: 8.9080e-04\n",
      "Epoch 192/200\n",
      "20/20 [==============================] - 0s 0s/step - loss: 8.8945e-04\n",
      "Epoch 193/200\n"
     ]
    },
    {
     "name": "stdout",
     "output_type": "stream",
     "text": [
      "20/20 [==============================] - 0s 1ms/step - loss: 8.8477e-04\n",
      "Epoch 194/200\n",
      "20/20 [==============================] - 0s 0s/step - loss: 8.8687e-04\n",
      "Epoch 195/200\n",
      "20/20 [==============================] - 0s 0s/step - loss: 8.8921e-04\n",
      "Epoch 196/200\n",
      "20/20 [==============================] - 0s 781us/step - loss: 8.8544e-04\n",
      "Epoch 197/200\n",
      "20/20 [==============================] - 0s 781us/step - loss: 8.9073e-04\n",
      "Epoch 198/200\n",
      "20/20 [==============================] - 0s 781us/step - loss: 8.8617e-04\n",
      "Epoch 199/200\n",
      "20/20 [==============================] - 0s 781us/step - loss: 8.8849e-04\n",
      "Epoch 200/200\n",
      "20/20 [==============================] - 0s 0s/step - loss: 8.8546e-04\n"
     ]
    },
    {
     "data": {
      "text/plain": [
       "<tensorflow.python.keras.callbacks.History at 0x1cf67a078b0>"
      ]
     },
     "execution_count": 165,
     "metadata": {},
     "output_type": "execute_result"
    }
   ],
   "source": [
    "model.fit(x = x, y = y_targ_2, batch_size = 50, epochs = 200)"
   ]
  },
  {
   "cell_type": "code",
   "execution_count": 166,
   "id": "fc281727",
   "metadata": {},
   "outputs": [],
   "source": [
    "y_pred = model.predict(x)"
   ]
  },
  {
   "cell_type": "code",
   "execution_count": 172,
   "id": "8d0008c0",
   "metadata": {},
   "outputs": [
    {
     "data": {
      "text/plain": [
       "[<matplotlib.lines.Line2D at 0x1cf684a11c0>]"
      ]
     },
     "execution_count": 172,
     "metadata": {},
     "output_type": "execute_result"
    }
   ],
   "source": [
    "fig = plt.figure()\n",
    "ax = plt.gca()\n",
    "ax.plot(y_pred)\n",
    "ax.plot(y_targ_2.numpy())"
   ]
  },
  {
   "cell_type": "code",
   "execution_count": null,
   "id": "82c7b567",
   "metadata": {},
   "outputs": [],
   "source": [
    "#"
   ]
  },
  {
   "cell_type": "code",
   "execution_count": null,
   "id": "f1552a92",
   "metadata": {},
   "outputs": [],
   "source": [
    "y_pred = [tf.expand_dims(y_shift[0,:], axis=0)]\n",
    "for i in range(len(y_shift)):\n",
    "    y_pred.append(model.predict(y_pred[i]))"
   ]
  },
  {
   "cell_type": "code",
   "execution_count": null,
   "id": "700674f3",
   "metadata": {},
   "outputs": [],
   "source": []
  },
  {
   "cell_type": "code",
   "execution_count": null,
   "id": "da3bce86",
   "metadata": {},
   "outputs": [],
   "source": [
    "# Neural ODE"
   ]
  },
  {
   "cell_type": "code",
   "execution_count": 17,
   "id": "a7b0ac79",
   "metadata": {},
   "outputs": [],
   "source": [
    "import sys\n",
    "sys.path.append('..')\n",
    "import neural_ode.NeuralODE\n",
    "import neural_ode.ODESolvers"
   ]
  },
  {
   "cell_type": "code",
   "execution_count": 24,
   "id": "d06d0ad3",
   "metadata": {},
   "outputs": [],
   "source": [
    "class SimpleModel(tf.keras.Model):\n",
    "    def __init__(self, dyn_dim = 1, external_dim=1):\n",
    "        super().__init__()\n",
    "        w_init = tf.random_normal_initializer(mean=-1.0, stddev=0.05)\n",
    "        self.w = tf.Variable(\n",
    "            initial_value = w_init(shape=(dyn_dim*2, dyn_dim), dtype=\"float64\"),\n",
    "            trainable=True, name='W' )\n",
    "        self.dyn_dim = dyn_dim\n",
    "        w_ext = tf.Variable(\n",
    "            initial_value = w_init(shape=(external_dim, dyn_dim), dtype=\"float64\"),\n",
    "            trainable=True, name='W_ext' )\n",
    "        self.w_ext = w_ext\n",
    "\n",
    "    def call(self, inputs):\n",
    "        y_dyn = inputs[:,:self.dyn_dim*2]\n",
    "        x_ext = inputs[:,self.dyn_dim*2:]\n",
    "        vels = inputs[:,self.dyn_dim:self.dyn_dim*2]\n",
    "        accs = tf.matmul(y_dyn, self.w) + tf.matmul(x_ext, self.w_ext)\n",
    "        return tf.concat([vels, accs], axis=1)\n",
    "\n",
    "\n",
    "model_2 = SimpleModel()"
   ]
  },
  {
   "cell_type": "code",
   "execution_count": 25,
   "id": "9b706562",
   "metadata": {},
   "outputs": [
    {
     "data": {
      "text/plain": [
       "[<tf.Variable 'W:0' shape=(2, 1) dtype=float64, numpy=\n",
       " array([[-1.04367319],\n",
       "        [-0.96973507]])>,\n",
       " <tf.Variable 'W_ext:0' shape=(1, 1) dtype=float64, numpy=array([[-0.96773713]])>]"
      ]
     },
     "execution_count": 25,
     "metadata": {},
     "output_type": "execute_result"
    }
   ],
   "source": [
    "model_2.variables"
   ]
  },
  {
   "cell_type": "code",
   "execution_count": 26,
   "id": "c190bee7",
   "metadata": {},
   "outputs": [
    {
     "data": {
      "text/plain": [
       "<tf.Tensor: shape=(1, 2), dtype=float64, numpy=array([[ 2.       , -4.9186176]])>"
      ]
     },
     "execution_count": 26,
     "metadata": {},
     "output_type": "execute_result"
    }
   ],
   "source": [
    "model_2(tf.constant([[1.0, 2.0, 2.0]], dtype=tf.float64))"
   ]
  },
  {
   "cell_type": "code",
   "execution_count": 27,
   "id": "ce6700d8",
   "metadata": {},
   "outputs": [],
   "source": [
    "n_ode = neural_ode.NeuralODE.NeuralODE(model_2, 2, n_external=1)"
   ]
  },
  {
   "cell_type": "code",
   "execution_count": 35,
   "id": "f86567ea",
   "metadata": {
    "scrolled": true
   },
   "outputs": [
    {
     "name": "stdout",
     "output_type": "stream",
     "text": [
      "--- Epoch #1 ---\n",
      "Total loss of epoch: 0.02925563654571306\n",
      "Elapsed time for epoch: 5.526193857192993\n",
      "--- Epoch #2 ---\n",
      "Total loss of epoch: 0.028828491635977116\n",
      "Elapsed time for epoch: 5.459866762161255\n",
      "--- Epoch #3 ---\n",
      "Total loss of epoch: 0.02799747678136555\n",
      "Elapsed time for epoch: 5.456030368804932\n",
      "--- Epoch #4 ---\n",
      "Total loss of epoch: 0.027542313801404816\n",
      "Elapsed time for epoch: 5.565034866333008\n",
      "--- Epoch #5 ---\n",
      "Total loss of epoch: 0.026894787261426245\n",
      "Elapsed time for epoch: 5.444942474365234\n",
      "--- Epoch #6 ---\n",
      "Total loss of epoch: 0.026002113946560712\n",
      "Elapsed time for epoch: 5.5343017578125\n",
      "--- Epoch #7 ---\n",
      "Total loss of epoch: 0.025824300232216046\n",
      "Elapsed time for epoch: 5.501861333847046\n",
      "--- Epoch #8 ---\n",
      "Total loss of epoch: 0.025020309491083026\n",
      "Elapsed time for epoch: 5.737710952758789\n",
      "--- Epoch #9 ---\n",
      "Total loss of epoch: 0.023960097692906857\n",
      "Elapsed time for epoch: 5.44577956199646\n",
      "--- Epoch #10 ---\n",
      "Total loss of epoch: 0.02369606881211439\n",
      "Elapsed time for epoch: 5.493047714233398\n",
      "--- Epoch #11 ---\n",
      "Total loss of epoch: 0.022930347932287987\n",
      "Elapsed time for epoch: 5.460888862609863\n",
      "--- Epoch #12 ---\n",
      "Total loss of epoch: 0.021768436720776663\n",
      "Elapsed time for epoch: 5.551588773727417\n",
      "--- Epoch #13 ---\n",
      "Total loss of epoch: 0.02140559623740046\n",
      "Elapsed time for epoch: 5.509259939193726\n",
      "--- Epoch #14 ---\n",
      "Total loss of epoch: 0.02068572637199395\n",
      "Elapsed time for epoch: 5.488056659698486\n",
      "--- Epoch #15 ---\n",
      "Total loss of epoch: 0.019511631443037913\n",
      "Elapsed time for epoch: 5.528997421264648\n",
      "--- Epoch #16 ---\n",
      "Total loss of epoch: 0.018810459788710432\n",
      "Elapsed time for epoch: 5.568759202957153\n",
      "--- Epoch #17 ---\n",
      "Total loss of epoch: 0.01789532464090371\n",
      "Elapsed time for epoch: 5.456011533737183\n",
      "--- Epoch #18 ---\n",
      "Total loss of epoch: 0.017107379979279358\n",
      "Elapsed time for epoch: 5.495140790939331\n",
      "--- Epoch #19 ---\n",
      "Total loss of epoch: 0.0165699690760448\n",
      "Elapsed time for epoch: 5.624185085296631\n",
      "--- Epoch #20 ---\n",
      "Total loss of epoch: 0.015380199758510571\n",
      "Elapsed time for epoch: 5.53879451751709\n",
      "Total elapsed time: 110.38645243644714\n"
     ]
    }
   ],
   "source": [
    "n_epoch = 20\n",
    "n_ode.fit(t_target, y_target, n_epoch=n_epoch, n_batch=10, \n",
    "          adjoint_method=False, missing_derivative=[0], adjust_initial=False, x_external=f_ext_tf)"
   ]
  },
  {
   "cell_type": "code",
   "execution_count": 117,
   "id": "fb73e665",
   "metadata": {},
   "outputs": [
    {
     "data": {
      "text/plain": [
       "[<tf.Variable 'W:0' shape=(2, 1) dtype=float64, numpy=\n",
       " array([[-4. ],\n",
       "        [-0.4]])>,\n",
       " <tf.Variable 'W_ext:0' shape=(1, 1) dtype=float64, numpy=array([[1.]])>]"
      ]
     },
     "execution_count": 117,
     "metadata": {},
     "output_type": "execute_result"
    }
   ],
   "source": [
    "n_ode.model.variables"
   ]
  },
  {
   "cell_type": "code",
   "execution_count": 116,
   "id": "1a82ebe6",
   "metadata": {},
   "outputs": [
    {
     "data": {
      "text/plain": [
       "<tf.Variable 'UnreadVariable' shape=(1, 1) dtype=float64, numpy=array([[1.]])>"
      ]
     },
     "execution_count": 116,
     "metadata": {},
     "output_type": "execute_result"
    }
   ],
   "source": [
    "n_ode.model.variables[0].assign(np.array([[-k],[-c]]))\n",
    "n_ode.model.variables[1].assign(np.array([[1.0]]))"
   ]
  },
  {
   "cell_type": "code",
   "execution_count": 169,
   "id": "0138e16d",
   "metadata": {},
   "outputs": [],
   "source": [
    "y0 = tf.concat([y_target[0,0], (y_target[1,0]-y_target[0,0])/(t_target[1]-t_target[0])], axis=0)\n",
    "sol_model = n_ode.forward_solve(t_target, y0, x_external=f_ext_interp)"
   ]
  },
  {
   "cell_type": "code",
   "execution_count": 171,
   "id": "f0589542",
   "metadata": {},
   "outputs": [
    {
     "data": {
      "text/plain": [
       "[<matplotlib.lines.Line2D at 0x1cf67f25850>]"
      ]
     },
     "execution_count": 171,
     "metadata": {},
     "output_type": "execute_result"
    }
   ],
   "source": [
    "fig, ax = plt.subplots()\n",
    "plt.plot(t_target.numpy(), y_target.numpy())\n",
    "ax.plot(sol_model['t'].numpy(), sol_model['y'][:,0].numpy() )"
   ]
  },
  {
   "cell_type": "code",
   "execution_count": null,
   "id": "3844a4e2",
   "metadata": {},
   "outputs": [],
   "source": []
  },
  {
   "cell_type": "markdown",
   "id": "847c6eab",
   "metadata": {},
   "source": [
    "# Test"
   ]
  },
  {
   "cell_type": "code",
   "execution_count": 205,
   "id": "06f63e59",
   "metadata": {},
   "outputs": [],
   "source": [
    "#\n",
    "N_n = int(2)\n",
    "c1 = 0.2\n",
    "k1 = 4.0\n",
    "def oscilator(t, y, f):\n",
    "    f_val = f(t)\n",
    "    return np.array([y[1], -c1*y[1]-k1*y[0]+f_val])\n",
    "t_final = 200.0\n",
    "n_eval = int(1000)\n",
    "t_span = np.array([0.0, t_final])\n",
    "t_eval = np.linspace(0, t_final, num=n_eval)\n",
    "y0 = np.array([1.0, 0.0])"
   ]
  },
  {
   "cell_type": "code",
   "execution_count": 206,
   "id": "03a7cb6d",
   "metadata": {},
   "outputs": [
    {
     "name": "stderr",
     "output_type": "stream",
     "text": [
      "<ipython-input-205-18b09cb65a89>:7: VisibleDeprecationWarning: Creating an ndarray from ragged nested sequences (which is a list-or-tuple of lists-or-tuples-or ndarrays with different lengths or shapes) is deprecated. If you meant to do this, you must specify 'dtype=object' when creating the ndarray.\n",
      "  return np.array([y[1], -c1*y[1]-k1*y[0]+f_val])\n"
     ]
    }
   ],
   "source": [
    "func_1 = lambda t,y: oscilator(t,y,f_interp)\n",
    "sol_test = solve_ivp(func_1, t_span, y0, t_eval=t_eval)"
   ]
  },
  {
   "cell_type": "code",
   "execution_count": 207,
   "id": "2f68511d",
   "metadata": {},
   "outputs": [
    {
     "data": {
      "text/plain": [
       "[<matplotlib.lines.Line2D at 0x1cf6981a640>]"
      ]
     },
     "execution_count": 207,
     "metadata": {},
     "output_type": "execute_result"
    }
   ],
   "source": [
    "plt.plot(sol_test.t, sol_test.y[0,:])"
   ]
  },
  {
   "cell_type": "code",
   "execution_count": 208,
   "id": "04865e22",
   "metadata": {},
   "outputs": [],
   "source": [
    "# transform to tensorflow\n",
    "t_test = tf.constant(sol_test.t)\n",
    "y_test = tf.expand_dims(tf.constant(np.transpose(sol_test.y[0,:])), axis=1)"
   ]
  },
  {
   "cell_type": "code",
   "execution_count": 209,
   "id": "10b2cffa",
   "metadata": {},
   "outputs": [],
   "source": [
    "# usual model"
   ]
  },
  {
   "cell_type": "code",
   "execution_count": 210,
   "id": "a9e0042f",
   "metadata": {},
   "outputs": [],
   "source": [
    "# shift\n",
    "y_test_out = y_test[1:n_eval,:]\n",
    "y_test_inp = y_test[0:n_eval-1,:] \n",
    "x_test = tf.concat([y_test_inp, f_ext_tf[0:n_eval-1,:]], axis=1)"
   ]
  },
  {
   "cell_type": "code",
   "execution_count": 211,
   "id": "f1781fa7",
   "metadata": {},
   "outputs": [],
   "source": [
    "y_pred_test = model.predict(x_test)"
   ]
  },
  {
   "cell_type": "code",
   "execution_count": 212,
   "id": "e4f0d2ef",
   "metadata": {},
   "outputs": [],
   "source": [
    "# neural ODE model"
   ]
  },
  {
   "cell_type": "code",
   "execution_count": 213,
   "id": "4185b82e",
   "metadata": {},
   "outputs": [],
   "source": [
    "y0 = tf.concat([y_test[0,0], (y_test[1,0]-y_test[0,0])/(t_target[1]-t_target[0])], axis=0)\n",
    "sol_model_test = n_ode.forward_solve(t_target, y0, x_external=f_ext_interp)"
   ]
  },
  {
   "cell_type": "code",
   "execution_count": 214,
   "id": "ca32b7f7",
   "metadata": {},
   "outputs": [],
   "source": [
    "y_pred_test_2 = sol_model_test['y'][::n_ode.n_ref,0].numpy()"
   ]
  },
  {
   "cell_type": "code",
   "execution_count": 215,
   "id": "0af9d9cb",
   "metadata": {},
   "outputs": [],
   "source": [
    "y_test_np = np.reshape(y_test.numpy(), (len(y_test.numpy())) )"
   ]
  },
  {
   "cell_type": "code",
   "execution_count": null,
   "id": "d5d8cb4f",
   "metadata": {},
   "outputs": [],
   "source": []
  },
  {
   "cell_type": "code",
   "execution_count": 221,
   "id": "87c69e75",
   "metadata": {},
   "outputs": [],
   "source": [
    "def resudual_func(y_targ, y_pr):\n",
    "    dict_res = {}\n",
    "    dict_res['residual'] = np.abs(y_targ - y_pr)\n",
    "    dict_res['residual_rel'] =  dict_res['residual']/(np.abs(y_targ)+np.abs(y_pr)+ 1e-5 )*2\n",
    "    return dict_res"
   ]
  },
  {
   "cell_type": "code",
   "execution_count": 222,
   "id": "73ce33d2",
   "metadata": {},
   "outputs": [],
   "source": [
    "res1 = resudual_func(y_test_out, y_pred_test)"
   ]
  },
  {
   "cell_type": "code",
   "execution_count": 223,
   "id": "db94dbd3",
   "metadata": {},
   "outputs": [],
   "source": [
    "res2 = resudual_func(y_test_np, y_pred_test_2)"
   ]
  },
  {
   "cell_type": "code",
   "execution_count": null,
   "id": "72c3142c",
   "metadata": {},
   "outputs": [],
   "source": []
  },
  {
   "cell_type": "code",
   "execution_count": null,
   "id": "fa17f53c",
   "metadata": {},
   "outputs": [],
   "source": []
  },
  {
   "cell_type": "code",
   "execution_count": 226,
   "id": "d2e3828f",
   "metadata": {},
   "outputs": [
    {
     "data": {
      "text/plain": [
       "[<matplotlib.lines.Line2D at 0x1cf6b7df3a0>]"
      ]
     },
     "execution_count": 226,
     "metadata": {},
     "output_type": "execute_result"
    }
   ],
   "source": [
    "fig, ax = plt.subplots()\n",
    "ax.plot(y_test_out.numpy())\n",
    "ax.plot(y_pred_test)\n",
    "ax.plot(res1['residual_rel'])"
   ]
  },
  {
   "cell_type": "code",
   "execution_count": 227,
   "id": "955247da",
   "metadata": {},
   "outputs": [
    {
     "data": {
      "text/plain": [
       "[<matplotlib.lines.Line2D at 0x1cf6b816af0>]"
      ]
     },
     "execution_count": 227,
     "metadata": {},
     "output_type": "execute_result"
    }
   ],
   "source": [
    "fig, ax = plt.subplots()\n",
    "ax.plot(y_test_np)\n",
    "ax.plot(y_pred_test_2)\n",
    "ax.plot(res2['residual_rel'])"
   ]
  },
  {
   "cell_type": "code",
   "execution_count": null,
   "id": "459e4191",
   "metadata": {},
   "outputs": [],
   "source": []
  }
 ],
 "metadata": {
  "kernelspec": {
   "display_name": "Python 3",
   "language": "python",
   "name": "python3"
  },
  "language_info": {
   "codemirror_mode": {
    "name": "ipython",
    "version": 3
   },
   "file_extension": ".py",
   "mimetype": "text/x-python",
   "name": "python",
   "nbconvert_exporter": "python",
   "pygments_lexer": "ipython3",
   "version": "3.8.8"
  }
 },
 "nbformat": 4,
 "nbformat_minor": 5
}
